{
 "cells": [
  {
   "attachments": {},
   "cell_type": "markdown",
   "metadata": {},
   "source": [
    "Imports"
   ]
  },
  {
   "cell_type": "code",
   "execution_count": null,
   "metadata": {},
   "outputs": [],
   "source": [
    "import sys\n",
    "from pathlib import Path\n",
    "import numpy as np\n",
    "import matplotlib as mpl\n",
    "import matplotlib.colors as mcolors\n",
    "import matplotlib.pyplot as plt\n",
    "from diffpy.utils.parsers.loaddata import loadData\n",
    "from bg_mpl_stylesheet.bg_mpl_stylesheet import bg_mpl_style"
   ]
  },
  {
   "attachments": {},
   "cell_type": "markdown",
   "metadata": {},
   "source": [
    "Stating the file name of the iPython notebook."
   ]
  },
  {
   "cell_type": "code",
   "execution_count": null,
   "metadata": {},
   "outputs": [],
   "source": [
    "nb_name = \"xy_overview.ipynb\""
   ]
  },
  {
   "attachments": {},
   "cell_type": "markdown",
   "metadata": {},
   "source": [
    "Dictionary with plot settings."
   ]
  },
  {
   "cell_type": "code",
   "execution_count": null,
   "metadata": {},
   "outputs": [],
   "source": [
    "D_PLOT = dict(dpi=600,\n",
    "              figsize=(8, 4),\n",
    "              fs_labels=20,\n",
    "              fs_ticks=14,\n",
    "              xmin=1,\n",
    "              xmax=10,\n",
    "              )"
   ]
  },
  {
   "attachments": {},
   "cell_type": "markdown",
   "metadata": {},
   "source": [
    "Printing the dictionary with plot settings."
   ]
  },
  {
   "cell_type": "code",
   "execution_count": null,
   "metadata": {},
   "outputs": [],
   "source": [
    "print(f\"{80*'-'}\\nThe following plot settings were found in the top of the \"\n",
    "      f\"{nb_name} file:\")\n",
    "for k in list(D_PLOT.keys()):\n",
    "      if len(k) < 8:\n",
    "            print(f\"\\t{k}\\t\\t{D_PLOT[k]}\")\n",
    "      else:\n",
    "            print(f\"\\t{k}\\t{D_PLOT[k]}\")\n",
    "print(f\"{80*'-'}\\nPlease change the settings and rerun the code if neccessary.\")"
   ]
  },
  {
   "attachments": {},
   "cell_type": "markdown",
   "metadata": {},
   "source": [
    "Checking whether code is executed from iPython notebook or terminal to be able \n",
    "to exit code properly."
   ]
  },
  {
   "cell_type": "code",
   "execution_count": null,
   "metadata": {},
   "outputs": [],
   "source": [
    "def is_nb():\n",
    "    shell = get_ipython().__class__.__name__\n",
    "    if shell == \"ZMQInteractiveShell\":\n",
    "        nb_bool = True\n",
    "    else:\n",
    "        nb_bool = False\n",
    "\n",
    "    return nb_bool"
   ]
  },
  {
   "attachments": {},
   "cell_type": "markdown",
   "metadata": {},
   "source": [
    "Checking whether 'data' folder for data files exists."
   ]
  },
  {
   "cell_type": "code",
   "execution_count": null,
   "metadata": {},
   "outputs": [],
   "source": [
    "data_path = Path.cwd() / \"data\"\n",
    "if not data_path.exists():\n",
    "    data_path.mkdir()\n",
    "    s = f\"{80*'-'}\\nA folder called 'data' has been created.\\n\"\n",
    "    s += f\"Please put your data files there and rerun the code.\\n{80*'-'}\"\n",
    "    print(s)\n",
    "    if is_nb():\n",
    "        exit(keep_kernel=True)\n",
    "    else:\n",
    "        exit()"
   ]
  },
  {
   "attachments": {},
   "cell_type": "markdown",
   "metadata": {},
   "source": [
    "Checking whether any data files are present in the 'data' folder."
   ]
  },
  {
   "cell_type": "code",
   "execution_count": null,
   "metadata": {},
   "outputs": [],
   "source": [
    "data_files = list(data_path.glob(\"*.*\"))\n",
    "if len(data_files) == 0:\n",
    "    s = f\"{80*'-'}\\nNo files were found in the 'data' folder.\\n\"\n",
    "    s += f\"Please put your data files there and rerun the code.\\n{80*'-'}\"\n",
    "    print(s)\n",
    "    if is_nb():\n",
    "        exit(keep_kernel=True)\n",
    "    else:\n",
    "        exit()"
   ]
  },
  {
   "attachments": {},
   "cell_type": "markdown",
   "metadata": {},
   "source": [
    "Checking that only one file extension is present among the data files in the \n",
    "'data' folder."
   ]
  },
  {
   "cell_type": "code",
   "execution_count": null,
   "metadata": {},
   "outputs": [],
   "source": [
    "suffixes = []\n",
    "for f in data_files:\n",
    "    if f.suffix not in suffixes:\n",
    "        suffixes.append(f.suffix)\n",
    "if len(suffixes) > 1:\n",
    "    print(f\"{80*'-'}\\nThe following file extensions were found in the \"\n",
    "          f\"'{data_path.name}' folder:\")\n",
    "    for suffix in suffixes:\n",
    "        print(f\"\\t{suffix}\")\n",
    "    s = f\"{80*'-'}\\nPlease review the '{data_path.name}' folder to ensure \"\n",
    "    s += f\"that only one file extension is\\npresent.\\n{80*'-'}\"\n",
    "    print(s)\n",
    "    if is_nb():\n",
    "        exit(keep_kernel=True)\n",
    "    else:\n",
    "        exit()\n",
    "else:\n",
    "    D_PLOT[\"suffix\"] = suffixes[0].strip(\".\")"
   ]
  },
  {
   "attachments": {},
   "cell_type": "markdown",
   "metadata": {},
   "source": [
    "Updating dictionary with plot settings with labels according to the file \n",
    "extension of the data files."
   ]
  },
  {
   "cell_type": "code",
   "execution_count": null,
   "metadata": {},
   "outputs": [],
   "source": [
    "D_PLOT[\"xlabel\"] = \"scan number\"\n",
    "if suffixes[0] == \".gr\":\n",
    "    D_PLOT[\"ylabel\"] = \"$r\\;[\\mathrm{\\AA}]$\"\n",
    "    D_PLOT[\"cbarlabel\"] = \"$G\\;[\\mathrm{\\AA}^{-2}]$\"\n",
    "elif suffixes[0] == \".fq\":\n",
    "    D_PLOT[\"ylabel\"] = \"$Q\\;[\\mathrm{\\AA}^{-1}]$\"\n",
    "    D_PLOT[\"cbarlabel\"] = \"$F\\;[\\mathrm{\\AA}^{-1}]$\"\n",
    "else:\n",
    "    D_PLOT[\"ylabel\"] = \"$Q\\;[\\mathrm{\\AA}^{-1}]$\"\n",
    "    D_PLOT[\"cbarlabel\"] = \"$I\\;[\\mathrm{arb.\\;u.}]$\""
   ]
  },
  {
   "attachments": {},
   "cell_type": "markdown",
   "metadata": {},
   "source": [
    "Collecting x array from first data file and stacking y arrays into one array."
   ]
  },
  {
   "cell_type": "code",
   "execution_count": null,
   "metadata": {},
   "outputs": [],
   "source": [
    "for i, f in enumerate(data_files):\n",
    "    data = loadData(f)\n",
    "    x, y = data[:, 0], data[:, 1]\n",
    "    if i == 0:\n",
    "        array = y\n",
    "    else:\n",
    "        array = np.column_stack((array, y))"
   ]
  },
  {
   "attachments": {},
   "cell_type": "markdown",
   "metadata": {},
   "source": [
    "Function to obtain indices for min and max values of array."
   ]
  },
  {
   "cell_type": "code",
   "execution_count": null,
   "metadata": {},
   "outputs": [],
   "source": [
    "def get_indices(array, min_value, max_value):\n",
    "    min_index, max_index = None, None\n",
    "    for i, e in enumerate(array):\n",
    "        if e >= min_value:\n",
    "            min_index = i\n",
    "            break\n",
    "    for i, e in enumerate(array):\n",
    "        if e >= max_value:\n",
    "            max_index = i\n",
    "            break\n",
    "    if isinstance(min_index, type(None)):\n",
    "        min_index = 0\n",
    "    if isinstance(max_index, type(None)):\n",
    "        max_index = len(array) - 1\n",
    "\n",
    "    return min_index, max_index"
   ]
  },
  {
   "attachments": {},
   "cell_type": "markdown",
   "metadata": {},
   "source": [
    "Shaping x array and stacked y array."
   ]
  },
  {
   "cell_type": "code",
   "execution_count": null,
   "metadata": {},
   "outputs": [],
   "source": [
    "xmin_index, xmax_index = get_indices(x, D_PLOT[\"xmin\"], D_PLOT[\"xmax\"])\n",
    "if xmax_index < len(x) - 1:\n",
    "    x, array = x[xmin_index:xmax_index + 1], array[xmin_index:xmax_index + 1, :]\n",
    "else:\n",
    "    x, array = x[xmin_index:], array[xmin_index:, :]\n",
    "D_PLOT[\"vmin\"], D_PLOT[\"vmax\"] = np.amin(array), np.amax(array)"
   ]
  },
  {
   "attachments": {},
   "cell_type": "markdown",
   "metadata": {},
   "source": [
    "Function for shifting (diverging) colormap, such thast white corresponds to zero\n",
    "even if data is min and max is not symmetric around zero, i.e., if min != - max."
   ]
  },
  {
   "cell_type": "code",
   "execution_count": null,
   "metadata": {},
   "outputs": [],
   "source": [
    "def shiftedColorMap(cmap, start=0, midpoint=0.5, stop=1.0, name='shiftedcmap'):\n",
    "    '''\n",
    "    Function to offset the \"center\" of a colormap. Useful for\n",
    "    data with a negative min and positive max and you want the\n",
    "    middle of the colormap's dynamic range to be at zero.\n",
    "\n",
    "    Input\n",
    "    -----\n",
    "      cmap : The matplotlib colormap to be altered\n",
    "      start : Offset from lowest point in the colormap's range.\n",
    "          Defaults to 0.0 (no lower offset). Should be between\n",
    "          0.0 and `midpoint`.\n",
    "      midpoint : The new center of the colormap. Defaults to\n",
    "          0.5 (no shift). Should be between 0.0 and 1.0. In\n",
    "          general, this should be  1 - vmax / (vmax + abs(vmin))\n",
    "          For example if your data range from -15.0 to +5.0 and\n",
    "          you want the center of the colormap at 0.0, `midpoint`\n",
    "          should be set to  1 - 5/(5 + 15)) or 0.75\n",
    "      stop : Offset from highest point in the colormap's range.\n",
    "          Defaults to 1.0 (no upper offset). Should be between\n",
    "          `midpoint` and 1.0.\n",
    "    '''\n",
    "    cdict = {\n",
    "        'red': [],\n",
    "        'green': [],\n",
    "        'blue': [],\n",
    "        'alpha': []\n",
    "    }\n",
    "\n",
    "    # regular index to compute the colors\n",
    "    reg_index = np.linspace(start, stop, 257)\n",
    "\n",
    "    # shifted index to match the data\n",
    "    shift_index = np.hstack([\n",
    "        np.linspace(0.0, midpoint, 128, endpoint=False),\n",
    "        np.linspace(midpoint, 1.0, 129, endpoint=True)\n",
    "    ])\n",
    "\n",
    "    for ri, si in zip(reg_index, shift_index):\n",
    "        r, g, b, a = cmap(ri)\n",
    "\n",
    "        cdict['red'].append((si, r, r))\n",
    "        cdict['green'].append((si, g, g))\n",
    "        cdict['blue'].append((si, b, b))\n",
    "        cdict['alpha'].append((si, a, a))\n",
    "\n",
    "    newcmap = mcolors.LinearSegmentedColormap(name, cdict)\n",
    "    mpl.colormaps.register(cmap=newcmap, force=True)\n",
    "\n",
    "    return newcmap"
   ]
  },
  {
   "attachments": {},
   "cell_type": "markdown",
   "metadata": {},
   "source": [
    "Function to truncate (diverging) colormap to get the positive part."
   ]
  },
  {
   "cell_type": "code",
   "execution_count": null,
   "metadata": {},
   "outputs": [],
   "source": [
    "def truncate_colormap(cmap, minval=0.0, maxval=1.0, n=100):\n",
    "    new_cmap = mcolors.LinearSegmentedColormap.from_list(\n",
    "               'trunc({n},{a:.2f},{b:.2f})'.format(n=cmap.name,\n",
    "                                                   a=minval,\n",
    "                                                   b=maxval\n",
    "                                                   ),\n",
    "               cmap(np.linspace(minval, maxval, n)))\n",
    "\n",
    "    return new_cmap"
   ]
  },
  {
   "attachments": {},
   "cell_type": "markdown",
   "metadata": {},
   "source": [
    "Creating diverging colormap with user-defined colors, shrinking colormap to \n",
    "adapt to data min and max values to have white corresponding to zero, and \n",
    "truncating the diverging colormap to get its positive part."
   ]
  },
  {
   "cell_type": "code",
   "execution_count": null,
   "metadata": {},
   "outputs": [],
   "source": [
    "div_gradient = mcolors.LinearSegmentedColormap.from_list('div_gradient', (\n",
    "                 # Edit this gradient at \n",
    "                 # https://eltos.github.io/gradient/#0B3C5D-0B3C5D-FFFFFF-B82601-B82601\n",
    "                 (0.000, (0.043, 0.235, 0.365)),\n",
    "                 (0.250, (0.200, 0.400, 0.500)),\n",
    "                 (0.500, (1.000, 1.000, 1.000)),\n",
    "                 (0.750, (0.850, 0.200, 0.100)),\n",
    "                 (1.000, (0.722, 0.149, 0.004))))\n",
    "mp = 1 - D_PLOT[\"vmax\"] / (D_PLOT[\"vmax\"] + abs(D_PLOT[\"vmin\"]))\n",
    "cmap_shrunk = shiftedColorMap(div_gradient, \n",
    "                              start=0, \n",
    "                              midpoint=mp, \n",
    "                              stop=1, \n",
    "                              name='shrunk',\n",
    "                              )\n",
    "cmap_trunc = truncate_colormap(div_gradient, 0.5, 1)                              "
   ]
  },
  {
   "attachments": {},
   "cell_type": "markdown",
   "metadata": {},
   "source": [
    "Updating dictionary with plot settings to include colormap."
   ]
  },
  {
   "cell_type": "code",
   "execution_count": null,
   "metadata": {},
   "outputs": [],
   "source": [
    "if suffixes[0] == \".gr\":\n",
    "    D_PLOT[\"cmap\"] = cmap_shrunk\n",
    "elif suffixes[0] == \".fq\":\n",
    "    D_PLOT[\"cmap\"] = cmap_shrunk\n",
    "else:\n",
    "    D_PLOT[\"cmap\"] = cmap_trunc   "
   ]
  },
  {
   "attachments": {},
   "cell_type": "markdown",
   "metadata": {},
   "source": [
    "Plot function."
   ]
  },
  {
   "cell_type": "code",
   "execution_count": null,
   "metadata": {},
   "outputs": [],
   "source": [
    "def plot(x, array, d, output_paths):\n",
    "    plt.style.use(bg_mpl_style)\n",
    "    fig, ax = plt.subplots(figsize=d[\"figsize\"])\n",
    "    im = ax.imshow(array,\n",
    "                   interpolation=\"none\",\n",
    "                   aspect=\"auto\",\n",
    "                   extent=(0, array.shape[1], d[\"xmax\"], d[\"xmin\"]),\n",
    "                   vmin=np.amin(array),\n",
    "                   vmax=np.amax(array),\n",
    "                   cmap=d[\"cmap\"],\n",
    "                   )\n",
    "    ax.tick_params(axis=\"x\",\n",
    "                   top=True,\n",
    "                   bottom=True,\n",
    "                   labeltop=True,\n",
    "                   labelbottom=False,\n",
    "                   )\n",
    "    ax.tick_params(axis=\"y\",\n",
    "                   left=True,\n",
    "                   right=True,\n",
    "                   labelleft=True,\n",
    "                   labelright=False,\n",
    "                   )                   \n",
    "    ax.set_xlabel(d[\"xlabel\"], fontsize=d[\"fs_labels\"])\n",
    "    ax.xaxis.set_label_position(\"top\")\n",
    "    ax.set_ylabel(ylabel=d[\"ylabel\"], fontsize=d[\"fs_labels\"])\n",
    "    ax.minorticks_on()\n",
    "    cbar = plt.colorbar(im)\n",
    "    cbar.set_label(label=d[\"cbarlabel\"], fontsize=d[\"fs_labels\"])\n",
    "    if d[f\"cbarlabel\"] == \"$I\\;[\\mathrm{arb.\\;u.}]$\":\n",
    "        cbar.formatter.set_powerlimits((0, 0))\n",
    "        cbar.ax.yaxis.set_offset_position('left')\n",
    "        cbar.update_ticks()\n",
    "    outputname = f\"{d['suffix']}_overview_xmin={d['xmin']}_xmax={d['xmax']}\"\n",
    "    for p in output_paths:\n",
    "        print(f\"\\t{p.name}\")\n",
    "        plt.savefig(p / f\"{outputname}.{p.name}\", \n",
    "                    bbox_inches=\"tight\",\n",
    "                    dpi=d[\"dpi\"],\n",
    "                    )\n",
    "    plt.close()\n",
    "\n",
    "    return None"
   ]
  },
  {
   "attachments": {},
   "cell_type": "markdown",
   "metadata": {},
   "source": [
    "Creating plot directories if not already existing."
   ]
  },
  {
   "cell_type": "code",
   "execution_count": null,
   "metadata": {},
   "outputs": [],
   "source": [
    "plot_folders = [\"png\", \"pdf\", \"svg\"]\n",
    "plot_paths = [Path.cwd() / folder for folder in plot_folders]\n",
    "for p in plot_paths:\n",
    "    if not p.exists():\n",
    "        p.mkdir()"
   ]
  },
  {
   "attachments": {},
   "cell_type": "markdown",
   "metadata": {},
   "source": [
    "Plotting."
   ]
  },
  {
   "cell_type": "code",
   "execution_count": null,
   "metadata": {},
   "outputs": [],
   "source": [
    "print(f\"{80*'-'}\\nPlotting...\")\n",
    "plot(x, array, D_PLOT, plot_paths)\n",
    "print(f\"Done.\\n{80*'-'}\\nPlease see the {plot_folders} folders.\")"
   ]
  }
 ],
 "metadata": {
  "kernelspec": {
   "display_name": "py311",
   "language": "python",
   "name": "python3"
  },
  "language_info": {
   "codemirror_mode": {
    "name": "ipython",
    "version": 3
   },
   "file_extension": ".py",
   "mimetype": "text/x-python",
   "name": "python",
   "nbconvert_exporter": "python",
   "pygments_lexer": "ipython3",
   "version": "3.11.3"
  },
  "orig_nbformat": 4
 },
 "nbformat": 4,
 "nbformat_minor": 2
}
