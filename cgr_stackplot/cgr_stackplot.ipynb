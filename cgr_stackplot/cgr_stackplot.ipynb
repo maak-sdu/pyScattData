{
 "cells": [
  {
   "attachments": {},
   "cell_type": "markdown",
   "metadata": {},
   "source": [
    "Imports."
   ]
  },
  {
   "cell_type": "code",
   "execution_count": null,
   "metadata": {},
   "outputs": [],
   "source": [
    "import sys\n",
    "from pathlib import Path\n",
    "import matplotlib.pyplot as plt\n",
    "from diffpy.utils.parsers.loaddata import loadData"
   ]
  },
  {
   "attachments": {},
   "cell_type": "markdown",
   "metadata": {},
   "source": [
    "Plot settings."
   ]
  },
  {
   "cell_type": "code",
   "execution_count": null,
   "metadata": {},
   "outputs": [],
   "source": [
    "FIGSIZE = (10,4)\n",
    "DPI = 300\n",
    "FONTSIZE = 16\n",
    "R_MAX_VALS = [10, 20, 30, 40, 50, 60, 70, 80, 90, 100]\n",
    "PLOTNAME = 'Ni_PDFcalc'\n",
    "D_COLORS = dict(bg_blue=\"#0B3C5D\", \n",
    "                bg_red=\"#B82601\", \n",
    "                bg_green=\"#1c6b0a\", \n",
    "                bg_lightblue=\"#328CC1\", \n",
    "                bg_darkblue=\"#062F4F\",\n",
    "                bg_yellow=\"#D9B310\", \n",
    "                bg_darkred=\"#984B43\", \n",
    "                bg_maroon=\"#76323F\", \n",
    "                bg_olive=\"#626E60\", \n",
    "                bg_yellowgreen=\"#AB987A\",\n",
    "                bg_brownorange=\"#C09F80\",\n",
    "                )\n",
    "COLORS = [D_COLORS[k] for k in D_COLORS.keys()]"
   ]
  },
  {
   "attachments": {},
   "cell_type": "markdown",
   "metadata": {},
   "source": [
    "Collecting input files."
   ]
  },
  {
   "cell_type": "code",
   "execution_count": null,
   "metadata": {},
   "outputs": [],
   "source": [
    "cgrpath = Path.cwd() / 'cgr'\n",
    "if not cgrpath.exists():\n",
    "    cgrpath.mkdir()\n",
    "    print(f\"{90*'-'}\\nA folder called 'cgr' has been made.\\\n",
    "            \\nPlease place your .cgr files there and rerun the code.\\\n",
    "            \\n{90*'-'}\")\n",
    "    sys.exit()\n",
    "files = list((Path.cwd() / 'cgr').glob('*.cgr'))\n",
    "if len(files) == 0:\n",
    "    print(f\"{90*'-'}\\nNo .cgr files found in the 'cgr' folder.\\\n",
    "            \\nPlease place your .cgr files there and rerun the code..\\\n",
    "            \\n{90*'-'}\")\n",
    "    sys.exit()"
   ]
  },
  {
   "attachments": {},
   "cell_type": "markdown",
   "metadata": {},
   "source": [
    "Labels to use in plots. One for each file."
   ]
  },
  {
   "cell_type": "code",
   "execution_count": null,
   "metadata": {},
   "outputs": [],
   "source": [
    "LABELS = ['Ni', 'Ni_tet-hole-occ']\n",
    "if len(files) != len(LABELS):\n",
    "    print(f\"{90*'-'}\\nThe number of labels provided does not match the number of files.\\\n",
    "            \\nConsider reviewing the labels in the top of the .py file\\\n",
    "            \\nand the .cgr files in the cgr folder.\\\n",
    "            \\n{90*'-'}\")\n",
    "    sys.exit()"
   ]
  },
  {
   "cell_type": "code",
   "execution_count": null,
   "metadata": {},
   "outputs": [],
   "source": [
    "plotfolders = [\"png\", \"pdf\", \"svg\"]\n",
    "plotpaths = [Path.cwd() / folder for folder in plotfolders]\n",
    "for p in plotpaths:\n",
    "    if not p.exists():\n",
    "        p.mkdir()"
   ]
  },
  {
   "cell_type": "code",
   "execution_count": null,
   "metadata": {},
   "outputs": [],
   "source": [
    "def plot(d, rmax_val, plotpaths):\n",
    "    keys = list(d.keys())    \n",
    "    fig, axs = plt.subplots(nrows=len(keys), \n",
    "                            dpi=DPI, \n",
    "                            figsize=FIGSIZE,\n",
    "                            sharex=True, \n",
    "                            sharey=False,\n",
    "                            )\n",
    "    fig.add_subplot(111, frameon=False)\n",
    "    plt.tick_params(labelcolor=\"none\", \n",
    "                    which='both',\n",
    "                    top=False, \n",
    "                    bottom=False, \n",
    "                    left=False, \n",
    "                    right=False,\n",
    "                    )\n",
    "    plt.xlabel(\"$r\\;[\\mathrm{\\AA}]$\", fontsize=FONTSIZE)\n",
    "    plt.ylabel(\"$G\\;[\\mathrm{\\AA}^{-2}]$\", fontsize=FONTSIZE)\n",
    "    for i, k in enumerate(keys):\n",
    "        axs[i].plot(d[k][\"r\"], d[k][\"g\"], c=COLORS[i], lw=0.5, label=LABELS[i])\n",
    "        axs[i].set_xlim(0.1, rmax_val)\n",
    "        axs[i].tick_params(axis=\"both\", which=\"major\", labelsize=0.75*FONTSIZE)\n",
    "        axs[i].legend(fontsize=0.6*FONTSIZE)\n",
    "    for p in plotpaths:\n",
    "        print(f\"\\t\\t{p.name}\")\n",
    "        plt.savefig(p / f\"{PLOTNAME}_rmax={rmax_val}.{p.name}\", \n",
    "                    bbox_inches=\"tight\",\n",
    "                    )\n",
    "    plt.close()\n",
    "\n",
    "    return None"
   ]
  },
  {
   "cell_type": "code",
   "execution_count": null,
   "metadata": {},
   "outputs": [],
   "source": [
    "print(f\"Working w. files...\")\n",
    "d = {}\n",
    "for file in files:\n",
    "    print(f\"\\t{file.name}\")\n",
    "    r, g = loadData(file).T\n",
    "    d[file.stem] = dict(r=r, g=g)\n",
    "print(\"Plotting...\")\n",
    "for rmax_val in R_MAX_VALS:\n",
    "    print(f\"\\tNi_PDFcalc_rmax={rmax_val}\")\n",
    "    plot(d, rmax_val, plotpaths)\n",
    "print(f\"Done. Please see the {plotfolders} folders.\")"
   ]
  }
 ],
 "metadata": {
  "kernelspec": {
   "display_name": "py311",
   "language": "python",
   "name": "python3"
  },
  "language_info": {
   "codemirror_mode": {
    "name": "ipython",
    "version": 3
   },
   "file_extension": ".py",
   "mimetype": "text/x-python",
   "name": "python",
   "nbconvert_exporter": "python",
   "pygments_lexer": "ipython3",
   "version": "3.11.3"
  },
  "orig_nbformat": 4
 },
 "nbformat": 4,
 "nbformat_minor": 2
}
