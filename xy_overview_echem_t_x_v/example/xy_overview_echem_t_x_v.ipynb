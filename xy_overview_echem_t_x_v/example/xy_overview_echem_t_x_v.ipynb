{
 "cells": [
  {
   "attachments": {},
   "cell_type": "markdown",
   "metadata": {},
   "source": [
    "Imports"
   ]
  },
  {
   "cell_type": "code",
   "execution_count": 28,
   "metadata": {},
   "outputs": [],
   "source": [
    "import sys\n",
    "import warnings\n",
    "from pathlib import Path\n",
    "import numpy as np\n",
    "import matplotlib as mpl\n",
    "import matplotlib.colors as mcolors\n",
    "import matplotlib.pyplot as plt\n",
    "from diffpy.utils.parsers.loaddata import loadData\n",
    "from bg_mpl_stylesheet.bg_mpl_stylesheet import bg_mpl_style"
   ]
  },
  {
   "cell_type": "code",
   "execution_count": 29,
   "metadata": {},
   "outputs": [],
   "source": [
    "warnings.filterwarnings(\"ignore\", category=UserWarning)"
   ]
  },
  {
   "attachments": {},
   "cell_type": "markdown",
   "metadata": {},
   "source": [
    "Voltage label to use when plotting."
   ]
  },
  {
   "cell_type": "code",
   "execution_count": 30,
   "metadata": {},
   "outputs": [],
   "source": [
    "D_ELABELS = dict(li=\"$E_{\\mathrm{we}}\\;\\mathrm{vs.\\;Li/Li^{+}\\;[V]}$\",\n",
    "                 la=\"$E_{\\mathrm{we}}\\;\\mathrm{vs.\\;Na/Na^{+}\\;[V]}$\",\n",
    "                 general=\"$V\\;[\\mathrm{V}]$\",\n",
    "                 )\n",
    "ELABEL = D_ELABELS[\"li\"]"
   ]
  },
  {
   "attachments": {},
   "cell_type": "markdown",
   "metadata": {},
   "source": [
    "State of charge label for echem and difference between them."
   ]
  },
  {
   "cell_type": "code",
   "execution_count": 31,
   "metadata": {},
   "outputs": [],
   "source": [
    "XLABEL = \"$x\\;\\mathrm{in}\\;\\mathrm{Li}_{x}\\mathrm{TiO_{2}}$\"\n",
    "X_LABEL_DIFF = 0.2"
   ]
  },
  {
   "attachments": {},
   "cell_type": "markdown",
   "metadata": {},
   "source": [
    "Stating the file name of the iPython notebook."
   ]
  },
  {
   "cell_type": "code",
   "execution_count": 32,
   "metadata": {},
   "outputs": [],
   "source": [
    "nb_name = \"xy_overview_echem_t_x_v.ipynb\""
   ]
  },
  {
   "attachments": {},
   "cell_type": "markdown",
   "metadata": {},
   "source": [
    "Dictionary with plot settings."
   ]
  },
  {
   "cell_type": "code",
   "execution_count": 33,
   "metadata": {},
   "outputs": [],
   "source": [
    "D_PLOT = dict(dpi=600,\n",
    "              figsize_xy=(8, 4),\n",
    "              figsize_echem=(8, 4),\n",
    "              figsize_xy_echem=(8, 8),\n",
    "              fs_labels=20,\n",
    "              fs_ticks=14,\n",
    "              xmin=1,\n",
    "              xmax=10,\n",
    "              emin=1,\n",
    "              emax=3,\n",
    "              tlabel=\"$t\\;[\\mathrm{h}]$\",\n",
    "              elabel=ELABEL,\n",
    "              xlabel=XLABEL,\n",
    "              )"
   ]
  },
  {
   "attachments": {},
   "cell_type": "markdown",
   "metadata": {},
   "source": [
    "Printing the dictionary with plot settings."
   ]
  },
  {
   "cell_type": "code",
   "execution_count": 34,
   "metadata": {},
   "outputs": [
    {
     "name": "stdout",
     "output_type": "stream",
     "text": [
      "--------------------------------------------------------------------------------\n",
      "The following plot settings were found in the top of the xy_overview_echem_t_x_v.ipynb file:\n",
      "\tdpi\t\t\t600\n",
      "\tfigsize_xy\t\t(8, 4)\n",
      "\tfigsize_echem\t\t(8, 4)\n",
      "\tfigsize_xy_echem\t(8, 8)\n",
      "\tfs_labels\t\t20\n",
      "\tfs_ticks\t\t14\n",
      "\txmin\t\t\t1\n",
      "\txmax\t\t\t10\n",
      "\temin\t\t\t1\n",
      "\temax\t\t\t3\n",
      "\ttlabel\t\t\t$t\\;[\\mathrm{h}]$\n",
      "\telabel\t\t\t$E_{\\mathrm{we}}\\;\\mathrm{vs.\\;Li/Li^{+}\\;[V]}$\n",
      "\txlabel\t\t\t$x\\;\\mathrm{in}\\;\\mathrm{Li}_{x}\\mathrm{TiO_{2}}$\n",
      "--------------------------------------------------------------------------------\n",
      "Please change the settings and rerun the code if neccessary.\n"
     ]
    }
   ],
   "source": [
    "print(f\"{80*'-'}\\nThe following plot settings were found in the top of the \"\n",
    "      f\"{nb_name} file:\")\n",
    "for k in list(D_PLOT.keys()):\n",
    "      if len(k) < 8:\n",
    "            print(f\"\\t{k}\\t\\t\\t{D_PLOT[k]}\")\n",
    "      elif 8 <= len(k) < 16:\n",
    "            print(f\"\\t{k}\\t\\t{D_PLOT[k]}\")\n",
    "      else:\n",
    "            print(f\"\\t{k}\\t{D_PLOT[k]}\")\n",
    "print(f\"{80*'-'}\\nPlease change the settings and rerun the code if neccessary.\")"
   ]
  },
  {
   "attachments": {},
   "cell_type": "markdown",
   "metadata": {},
   "source": [
    "Checking whether `data_xy` folder for data files exists."
   ]
  },
  {
   "cell_type": "code",
   "execution_count": 35,
   "metadata": {},
   "outputs": [],
   "source": [
    "data_xy_path = Path.cwd() / \"data_xy\"\n",
    "if not data_xy_path.exists():\n",
    "    data_xy_path.mkdir()\n",
    "    s = f\"\\n{80*'-'}\\nA folder called '{data_xy_path.name}' has been created.\\n\"\n",
    "    s += f\"Please put your data files there and rerun the code.\\n{80*'-'}\"\n",
    "    sys.exit(s)"
   ]
  },
  {
   "attachments": {},
   "cell_type": "markdown",
   "metadata": {},
   "source": [
    "Checking whether `data_echem` folder exists."
   ]
  },
  {
   "cell_type": "code",
   "execution_count": 36,
   "metadata": {},
   "outputs": [],
   "source": [
    "data_echem_path = Path.cwd() / \"data_echem\"\n",
    "if not data_echem_path.exists():\n",
    "    data_echem_path.mkdir()\n",
    "    s = f\"\\n{80*'-'}\\nA folder called '{data_echem_path.name}' has been \"\n",
    "    s += f\"created.\\nPlease put your data files there and rerun the code.\"\n",
    "    s += f\"\\n{80*'-'}\"\n",
    "    sys.exit(s)"
   ]
  },
  {
   "attachments": {},
   "cell_type": "markdown",
   "metadata": {},
   "source": [
    "Checking whether any data files are present in the `data_xy` folder."
   ]
  },
  {
   "cell_type": "code",
   "execution_count": 37,
   "metadata": {},
   "outputs": [],
   "source": [
    "data_xy_files = list(data_xy_path.glob(\"*.*\"))\n",
    "if len(data_xy_files) == 0:\n",
    "    s = f\"\\n{80*'-'}\\nNo files were found in the '{data_xy_path.name}' folder.\"\n",
    "    s += f\"\\nPlease put your data files there and rerun the code.\\n{80*'-'}\"\n",
    "    sys.exit(s)"
   ]
  },
  {
   "attachments": {},
   "cell_type": "markdown",
   "metadata": {},
   "source": [
    "Checking whether that a single file is present in the `data_echem` folder."
   ]
  },
  {
   "cell_type": "code",
   "execution_count": 38,
   "metadata": {},
   "outputs": [],
   "source": [
    "data_echem_files = list(data_echem_path.glob(\"*.*\"))\n",
    "if len(data_echem_files) == 0:\n",
    "    s = f\"\\n{80*'-'}\\nNo files were found in the '{data_echem_path.name}' \"\n",
    "    s += f\"folder.\\nPlease put your data file there and rerun the code.\"\n",
    "    s += f\"\\n{80*'-'}\"\n",
    "    sys.exit(s)\n",
    "elif len(data_echem_files) > 1:\n",
    "    s = f\"\\n{80*'-'}\\nMore than one file was found in the \"\n",
    "    s += f\"'{data_echem_path.name}' folder.\\nPlease put your single data file \"\n",
    "    s += f\"there and rerun the code.\\n{80*'-'}\"\n",
    "    sys.exit(s)\n",
    "else:\n",
    "    data_echem_file = data_echem_files[0]"
   ]
  },
  {
   "attachments": {},
   "cell_type": "markdown",
   "metadata": {},
   "source": [
    "Checking that only one file extension is present among the data_xy files in the \n",
    "'data' folder."
   ]
  },
  {
   "cell_type": "code",
   "execution_count": 39,
   "metadata": {},
   "outputs": [],
   "source": [
    "suffixes = []\n",
    "for f in data_xy_files:\n",
    "    if f.suffix not in suffixes:\n",
    "        suffixes.append(f.suffix)\n",
    "if len(suffixes) > 1:\n",
    "    print(f\"{80*'-'}\\nThe following file extensions were found in the \"\n",
    "          f\"'{data_xy_path.name}' folder:\")\n",
    "    for suffix in suffixes:\n",
    "        print(f\"\\t{suffix}\")\n",
    "    s = f\"\\n{80*'-'}\\nPlease review the '{data_xy_path.name}' folder to ensure \"\n",
    "    s += f\"that only one file extension is\\npresent.\\n{80*'-'}\"\n",
    "    sys.exit(s)\n",
    "else:\n",
    "    D_PLOT[\"suffix\"] = suffixes[0].strip(\".\")"
   ]
  },
  {
   "attachments": {},
   "cell_type": "markdown",
   "metadata": {},
   "source": [
    "Updating dictionary with plot settings with labels according to the file \n",
    "extension of the data files."
   ]
  },
  {
   "cell_type": "code",
   "execution_count": 40,
   "metadata": {},
   "outputs": [],
   "source": [
    "if suffixes[0] == \".gr\":\n",
    "    D_PLOT[\"ylabel\"] = \"$r\\;[\\mathrm{\\AA}]$\"\n",
    "    D_PLOT[\"cbarlabel\"] = \"$G\\;[\\mathrm{\\AA}^{-2}]$\"\n",
    "elif suffixes[0] == \".fq\":\n",
    "    D_PLOT[\"ylabel\"] = \"$Q\\;[\\mathrm{\\AA}^{-1}]$\"\n",
    "    D_PLOT[\"cbarlabel\"] = \"$F\\;[\\mathrm{\\AA}^{-1}]$\"\n",
    "else:\n",
    "    D_PLOT[\"ylabel\"] = \"$Q\\;[\\mathrm{\\AA}^{-1}]$\"\n",
    "    D_PLOT[\"cbarlabel\"] = \"$I\\;[\\mathrm{arb.\\;u.}]$\""
   ]
  },
  {
   "attachments": {},
   "cell_type": "markdown",
   "metadata": {},
   "source": [
    "Collecting x array from first data file and stacking y arrays into one array."
   ]
  },
  {
   "cell_type": "code",
   "execution_count": 41,
   "metadata": {},
   "outputs": [],
   "source": [
    "for i, f in enumerate(data_xy_files):\n",
    "    data = loadData(f)\n",
    "    x, y = data[:, 0], data[:, 1]\n",
    "    if i == 0:\n",
    "        array = y\n",
    "    else:\n",
    "        array = np.column_stack((array, y))\n",
    "D_XY = dict(x=x, y=array)"
   ]
  },
  {
   "cell_type": "code",
   "execution_count": 42,
   "metadata": {},
   "outputs": [],
   "source": [
    "def current_change_indices(current):\n",
    "    indices = [i for i in range(1, len(current))\n",
    "               if current[i] != 0 and current[i] * current[i-1] <= 0]\n",
    "    \n",
    "    return indices"
   ]
  },
  {
   "cell_type": "code",
   "execution_count": 43,
   "metadata": {},
   "outputs": [],
   "source": [
    "def get_x_indices(xlabels, x):\n",
    "    indices = []\n",
    "    j = 0\n",
    "    for e in xlabels:\n",
    "        for i in range(j, len(x)):\n",
    "            is_close = np.isclose(np.array(e, dtype=float), \n",
    "                                  x[i],\n",
    "                                  atol=abs(x[0] - x[1]),\n",
    "                                  )\n",
    "            if is_close:\n",
    "                indices.append(i)\n",
    "                j = i + 1\n",
    "                break\n",
    "                \n",
    "    return indices"
   ]
  },
  {
   "cell_type": "code",
   "execution_count": 44,
   "metadata": {},
   "outputs": [],
   "source": [
    "def get_labels(x, indices, labeldiff):\n",
    "    for i in range(len(indices)):\n",
    "        if i == 0:\n",
    "            if x[0] - x[1] < 0:\n",
    "                sign = 1\n",
    "            else:\n",
    "                sign = -1\n",
    "            x_labels_vals = np.arange(x[0], \n",
    "                                      x[indices][0], \n",
    "                                      sign * labeldiff,\n",
    "                                      )\n",
    "        else:\n",
    "            if i % 2 != 0:\n",
    "                x_labels_vals = np.append(x_labels_vals, \n",
    "                                          np.arange(x_labels_vals[-1],\n",
    "                                                    x[indices[i]], \n",
    "                                                    - sign * labeldiff,\n",
    "                                                    ))\n",
    "                x_labels_vals = np.append(x_labels_vals, x[indices[i]])\n",
    "            else:\n",
    "                x_labels_vals = np.append(x_labels_vals, \n",
    "                                          np.arange(x_label_vals[-1],\n",
    "                                                    x[indices[i]],\n",
    "                                                    sign * labeldiff,\n",
    "                                                    ))\n",
    "    if indices[-1] != len(x) - 1:\n",
    "        if x_labels_vals[-1] - x_labels_vals[-2] < 0:\n",
    "            sign = 1\n",
    "        else:\n",
    "            sign = -1\n",
    "        last, remainder = x_labels_vals[-1], x_labels_vals[-1] % labeldiff\n",
    "        start_val =  last - remainder + labeldiff\n",
    "        x_labels_vals = np.append(x_labels_vals,\n",
    "                                  np.arange(start_val,\n",
    "                                            x[-1],\n",
    "                                            sign * labeldiff,\n",
    "                                            ))\n",
    "    x_labels = []\n",
    "    for i in range(1, len(x_labels_vals)):\n",
    "        is_close = np.isclose(x_labels_vals[i-1], \n",
    "                              x_labels_vals[i], \n",
    "                              atol=labeldiff / 2,\n",
    "                              )\n",
    "        if not is_close:\n",
    "            if f\"{x_labels_vals[i-1]:.2f}\".split(\".\")[-1][1] == \"0\":\n",
    "                x_labels.append(f\"{x_labels_vals[i-1]:.1f}\")\n",
    "            else:\n",
    "                x_labels.append(f\"{x_labels_vals[i-1]:.2f}\")\n",
    "        if i == len(x_labels_vals) - 1:\n",
    "            if f\"{x_labels_vals[-1]:.2f}\".split(\".\")[-1][1] == \"0\":\n",
    "                x_labels.append(f\"{x_labels_vals[-1]:.1f}\")\n",
    "            else:\n",
    "                x_labels.append(f\"{x_labels_vals[-1]:.2f}\")\n",
    "\n",
    "    return x_labels"
   ]
  },
  {
   "attachments": {},
   "cell_type": "markdown",
   "metadata": {},
   "source": [
    "Collecting time and voltage arrays for echem file. (From first and second \n",
    "column in the file.)"
   ]
  },
  {
   "cell_type": "code",
   "execution_count": 45,
   "metadata": {},
   "outputs": [],
   "source": [
    "data = np.loadtxt(data_echem_file)\n",
    "time, voltage, current, x_ec = data.T\n",
    "change_indices = current_change_indices(current)\n",
    "xlabels = get_labels(x_ec, change_indices, X_LABEL_DIFF)\n",
    "xlabel_indices = get_x_indices(xlabels, x_ec)\n",
    "time_xlabels = [time[e] for e in xlabel_indices]\n",
    "D_EC = dict(time=time, \n",
    "            voltage=voltage, \n",
    "            x_ec=x_ec, \n",
    "            xlabels=xlabels, \n",
    "            time_xlabels=time_xlabels,\n",
    "            )"
   ]
  },
  {
   "attachments": {},
   "cell_type": "markdown",
   "metadata": {},
   "source": [
    "Function to obtain indices for min and max values of array."
   ]
  },
  {
   "cell_type": "code",
   "execution_count": 46,
   "metadata": {},
   "outputs": [],
   "source": [
    "def get_indices(array, min_value, max_value):\n",
    "    min_index, max_index = None, None\n",
    "    for i, e in enumerate(array):\n",
    "        if e >= min_value:\n",
    "            min_index = i\n",
    "            break\n",
    "    for i, e in enumerate(array):\n",
    "        if e >= max_value:\n",
    "            max_index = i\n",
    "            break\n",
    "    if isinstance(min_index, type(None)):\n",
    "        min_index = 0\n",
    "    if isinstance(max_index, type(None)):\n",
    "        max_index = len(array) - 1\n",
    "\n",
    "    return min_index, max_index"
   ]
  },
  {
   "attachments": {},
   "cell_type": "markdown",
   "metadata": {},
   "source": [
    "Shaping x array and stacked y array."
   ]
  },
  {
   "cell_type": "code",
   "execution_count": 47,
   "metadata": {},
   "outputs": [],
   "source": [
    "xmin_index, xmax_index = get_indices(x, D_PLOT[\"xmin\"], D_PLOT[\"xmax\"])\n",
    "if xmax_index < len(x) - 1:\n",
    "    x, array = x[xmin_index:xmax_index + 1], array[xmin_index:xmax_index + 1, :]\n",
    "else:\n",
    "    x, array = x[xmin_index:], array[xmin_index:, :]\n",
    "D_PLOT[\"vmin\"], D_PLOT[\"vmax\"] = np.amin(array), np.amax(array)"
   ]
  },
  {
   "attachments": {},
   "cell_type": "markdown",
   "metadata": {},
   "source": [
    "Function for shifting (diverging) colormap, such thast white corresponds to zero\n",
    "even if data is min and max is not symmetric around zero, i.e., if min != - max."
   ]
  },
  {
   "cell_type": "code",
   "execution_count": 48,
   "metadata": {},
   "outputs": [],
   "source": [
    "def shiftedColorMap(cmap, start=0, midpoint=0.5, stop=1.0, name='shiftedcmap'):\n",
    "    '''\n",
    "    Function to offset the \"center\" of a colormap. Useful for\n",
    "    data with a negative min and positive max and you want the\n",
    "    middle of the colormap's dynamic range to be at zero.\n",
    "\n",
    "    Input\n",
    "    -----\n",
    "      cmap : The matplotlib colormap to be altered\n",
    "      start : Offset from lowest point in the colormap's range.\n",
    "          Defaults to 0.0 (no lower offset). Should be between\n",
    "          0.0 and `midpoint`.\n",
    "      midpoint : The new center of the colormap. Defaults to\n",
    "          0.5 (no shift). Should be between 0.0 and 1.0. In\n",
    "          general, this should be  1 - vmax / (vmax + abs(vmin))\n",
    "          For example if your data range from -15.0 to +5.0 and\n",
    "          you want the center of the colormap at 0.0, `midpoint`\n",
    "          should be set to  1 - 5/(5 + 15)) or 0.75\n",
    "      stop : Offset from highest point in the colormap's range.\n",
    "          Defaults to 1.0 (no upper offset). Should be between\n",
    "          `midpoint` and 1.0.\n",
    "    '''\n",
    "    cdict = {\n",
    "        'red': [],\n",
    "        'green': [],\n",
    "        'blue': [],\n",
    "        'alpha': []\n",
    "    }\n",
    "\n",
    "    # regular index to compute the colors\n",
    "    reg_index = np.linspace(start, stop, 257)\n",
    "\n",
    "    # shifted index to match the data\n",
    "    shift_index = np.hstack([\n",
    "        np.linspace(0.0, midpoint, 128, endpoint=False),\n",
    "        np.linspace(midpoint, 1.0, 129, endpoint=True)\n",
    "    ])\n",
    "\n",
    "    for ri, si in zip(reg_index, shift_index):\n",
    "        r, g, b, a = cmap(ri)\n",
    "\n",
    "        cdict['red'].append((si, r, r))\n",
    "        cdict['green'].append((si, g, g))\n",
    "        cdict['blue'].append((si, b, b))\n",
    "        cdict['alpha'].append((si, a, a))\n",
    "\n",
    "    newcmap = mcolors.LinearSegmentedColormap(name, cdict)\n",
    "    mpl.colormaps.register(cmap=newcmap, force=True)\n",
    "\n",
    "    return newcmap"
   ]
  },
  {
   "attachments": {},
   "cell_type": "markdown",
   "metadata": {},
   "source": [
    "Function to truncate (diverging) colormap to get the positive part."
   ]
  },
  {
   "cell_type": "code",
   "execution_count": 49,
   "metadata": {},
   "outputs": [],
   "source": [
    "def truncate_colormap(cmap, minval=0.0, maxval=1.0, n=100):\n",
    "    new_cmap = mcolors.LinearSegmentedColormap.from_list(\n",
    "               'trunc({n},{a:.2f},{b:.2f})'.format(n=cmap.name,\n",
    "                                                   a=minval,\n",
    "                                                   b=maxval\n",
    "                                                   ),\n",
    "               cmap(np.linspace(minval, maxval, n)))\n",
    "\n",
    "    return new_cmap"
   ]
  },
  {
   "attachments": {},
   "cell_type": "markdown",
   "metadata": {},
   "source": [
    "Creating diverging colormap with user-defined colors, shrinking colormap to \n",
    "adapt to data min and max values to have white corresponding to zero, and \n",
    "truncating the diverging colormap to get its positive part."
   ]
  },
  {
   "cell_type": "code",
   "execution_count": 50,
   "metadata": {},
   "outputs": [],
   "source": [
    "div_gradient = mcolors.LinearSegmentedColormap.from_list('div_gradient', (\n",
    "                 # Edit this gradient at \n",
    "                 # https://eltos.github.io/gradient/#0B3C5D-0B3C5D-FFFFFF-B82601-B82601\n",
    "                 (0.000, (0.043, 0.235, 0.365)),\n",
    "                 (0.250, (0.200, 0.400, 0.500)),\n",
    "                 (0.500, (1.000, 1.000, 1.000)),\n",
    "                 (0.750, (0.850, 0.200, 0.100)),\n",
    "                 (1.000, (0.722, 0.149, 0.004))))\n",
    "mp = 1 - D_PLOT[\"vmax\"] / (D_PLOT[\"vmax\"] + abs(D_PLOT[\"vmin\"]))\n",
    "cmap_shrunk = shiftedColorMap(div_gradient, \n",
    "                              start=0, \n",
    "                              midpoint=mp, \n",
    "                              stop=1, \n",
    "                              name='shrunk',\n",
    "                              )\n",
    "cmap_trunc = truncate_colormap(div_gradient, 0.5, 1)                              "
   ]
  },
  {
   "attachments": {},
   "cell_type": "markdown",
   "metadata": {},
   "source": [
    "Updating dictionary with plot settings to include colormap."
   ]
  },
  {
   "cell_type": "code",
   "execution_count": 51,
   "metadata": {},
   "outputs": [],
   "source": [
    "if suffixes[0] == \".gr\":\n",
    "    D_PLOT[\"cmap\"] = cmap_shrunk\n",
    "elif suffixes[0] == \".fq\":\n",
    "    D_PLOT[\"cmap\"] = cmap_shrunk\n",
    "else:\n",
    "    D_PLOT[\"cmap\"] = cmap_trunc   "
   ]
  },
  {
   "attachments": {},
   "cell_type": "markdown",
   "metadata": {},
   "source": [
    "Plot function for overview plot."
   ]
  },
  {
   "cell_type": "code",
   "execution_count": 52,
   "metadata": {},
   "outputs": [],
   "source": [
    "def plot_xy(x, array, d, output_paths):\n",
    "    plt.style.use(bg_mpl_style)\n",
    "    fig, ax = plt.subplots(figsize=d[\"figsize_xy\"])\n",
    "    im = ax.imshow(array,\n",
    "                   interpolation=\"none\",\n",
    "                   aspect=\"auto\",\n",
    "                   extent=(0, array.shape[1], d[\"xmax\"], d[\"xmin\"]),\n",
    "                   vmin=np.amin(array),\n",
    "                   vmax=np.amax(array),\n",
    "                   cmap=d[\"cmap\"],\n",
    "                   )\n",
    "    ax.tick_params(axis=\"x\",\n",
    "                   top=True,\n",
    "                   bottom=True,\n",
    "                   labeltop=True,\n",
    "                   labelbottom=False,\n",
    "                   )\n",
    "    ax.tick_params(axis=\"y\",\n",
    "                   left=True,\n",
    "                   right=True,\n",
    "                   labelleft=True,\n",
    "                   labelright=False,\n",
    "                   )                   \n",
    "    ax.set_xlabel(d[\"xlabel\"], fontsize=d[\"fs_labels\"])\n",
    "    ax.xaxis.set_label_position(\"top\")\n",
    "    ax.set_ylabel(ylabel=d[\"ylabel\"], fontsize=d[\"fs_labels\"])\n",
    "    ax.minorticks_on()\n",
    "    cbar = plt.colorbar(im)\n",
    "    cbar.set_label(label=d[\"cbarlabel\"], fontsize=d[\"fs_labels\"])\n",
    "    outputname = f\"{d['suffix']}_overview_xmin={d['xmin']}_xmax={d['xmax']}\"\n",
    "    for p in output_paths:\n",
    "        print(f\"\\t\\t{p.name}\")\n",
    "        plt.savefig(p / f\"{outputname}.{p.name}\", \n",
    "                    bbox_inches=\"tight\",\n",
    "                    dpi=d[\"dpi\"],\n",
    "                    )\n",
    "    plt.close()\n",
    "\n",
    "    return None"
   ]
  },
  {
   "attachments": {},
   "cell_type": "markdown",
   "metadata": {},
   "source": [
    "Plot function for echem."
   ]
  },
  {
   "cell_type": "code",
   "execution_count": 53,
   "metadata": {},
   "outputs": [],
   "source": [
    "def plot_echem(time, voltage, d, output_paths):\n",
    "    plt.style.use(bg_mpl_style)\n",
    "    fig, ax = plt.subplots(figsize=d[\"figsize_echem\"])\n",
    "    ax.plot(time, voltage)\n",
    "    ax.set_xlabel(d[\"tlabel\"], fontsize=d[\"fs_labels\"])\n",
    "    ax.set_ylabel(d[\"elabel\"], fontsize=d[\"fs_labels\"])\n",
    "    ax.set_xlim(np.amin(time), np.amax(time))\n",
    "    ax.set_ylim(d[\"emin\"], d[\"emax\"])\n",
    "    ax.tick_params(axis=\"both\", labelsize=d[\"fs_ticks\"])                    \n",
    "    ax.minorticks_on()\n",
    "    for p in output_paths:\n",
    "        print(f\"\\t\\t{p.name}\")\n",
    "        plt.savefig(p / f\"echem_plot.{p.name}\", \n",
    "                    bbox_inches=\"tight\",\n",
    "                    dpi=d[\"dpi\"],\n",
    "                    )\n",
    "    plt.close()\n",
    "\n",
    "    return None"
   ]
  },
  {
   "attachments": {},
   "cell_type": "markdown",
   "metadata": {},
   "source": [
    "Plot function for xy overview and echem plot."
   ]
  },
  {
   "cell_type": "code",
   "execution_count": 54,
   "metadata": {},
   "outputs": [],
   "source": [
    "def plot_xy_echem(d_xy, d_ec, d, output_paths):\n",
    "    x, y = d_xy[\"x\"], d_xy[\"y\"]\n",
    "    time, voltage = d_ec[\"time\"], d_ec[\"voltage\"]\n",
    "    x_ec = d_ec[\"x_ec\"]\n",
    "    xlabels, time_xlabels = d_ec[\"xlabels\"], d_ec[\"time_xlabels\"]\n",
    "    time_min, time_max = np.amin(time), np.amax(time)\n",
    "    plt.style.use(bg_mpl_style)\n",
    "    fig = plt.figure(figsize=d[\"figsize_xy_echem\"])\n",
    "    grid = plt.GridSpec(nrows=2, \n",
    "                        ncols=2,\n",
    "                        hspace=0.1,\n",
    "                        height_ratios=(1, 0.5), \n",
    "                        width_ratios=(1, 0.135),\n",
    "                        )\n",
    "    ax1 = fig.add_subplot(grid[1,0])\n",
    "    ax1.set_xlim(time_min, time_max)\n",
    "    ax1.set_ylim(d[\"emin\"], d[\"emax\"])\n",
    "    ax1.set_xlabel(d[\"xlabel\"], fontsize=d[\"fs_labels\"])\n",
    "    ax1.set_ylabel(d[\"elabel\"], fontsize=d[\"fs_labels\"])\n",
    "    ax11 = ax1.twiny()\n",
    "    ax11.plot(time, voltage, zorder=0)\n",
    "    ax11.set_xlim(time_min, time_max)\n",
    "    ax11.set_ylim(d[\"emin\"], d[\"emax\"])\n",
    "    ax11.tick_params(axis=\"x\",\n",
    "                     labeltop=False,\n",
    "                     labelbottom=False,\n",
    "                     labelsize=d[\"fs_ticks\"],\n",
    "                     )\n",
    "\n",
    "    ax0 = fig.add_subplot(grid[0, 0:])\n",
    "    im = ax0.imshow(array,\n",
    "                   interpolation=\"none\",\n",
    "                   aspect=\"auto\",\n",
    "                   extent=(time_min, time_max, d[\"xmax\"], d[\"xmin\"]),\n",
    "                   vmin=np.amin(array),\n",
    "                   vmax=np.amax(array),\n",
    "                   cmap=d[\"cmap\"],\n",
    "                   )\n",
    "    ax0.tick_params(axis=\"x\",\n",
    "                   top=True,\n",
    "                   bottom=True,\n",
    "                   labeltop=True,\n",
    "                   labelbottom=False,\n",
    "                   )\n",
    "    ax0.tick_params(axis=\"y\",\n",
    "                   left=True,\n",
    "                   right=True,\n",
    "                   labelleft=True,\n",
    "                   labelright=False,\n",
    "                   )                   \n",
    "    ax0.set_xlabel(d[\"tlabel\"], fontsize=d[\"fs_labels\"])\n",
    "    ax0.xaxis.set_label_position(\"top\")\n",
    "    ax0.set_ylabel(ylabel=d[\"ylabel\"], fontsize=d[\"fs_labels\"])\n",
    "    ax0.minorticks_on()\n",
    "    cbar = plt.colorbar(im)\n",
    "    cbar.set_label(label=d[\"cbarlabel\"], fontsize=d[\"fs_labels\"])\n",
    "    ax1.plot(time, voltage)\n",
    "    ax1.set_xlabel(d[\"xlabel\"], fontsize=d[\"fs_labels\"])\n",
    "    ax1.set_ylabel(d[\"elabel\"], fontsize=d[\"fs_labels\"])\n",
    "    ax1.set_xlim(np.amin(time), np.amax(time))\n",
    "    ax1.set_ylim(d[\"emin\"], d[\"emax\"])\n",
    "    ax1.tick_params(axis=\"both\", labelsize=d[\"fs_ticks\"])\n",
    "    ax1.set_xticks(time_xlabels)  \n",
    "    ax1.set_xticklabels(xlabels)\n",
    "    ax1.minorticks_on()\n",
    "    outputname = f\"{d['suffix']}_overview_echem\"\n",
    "    outputname += f\"xmin={d['xmin']}_xmax={d['xmax']}\"\n",
    "    for p in output_paths:\n",
    "        print(f\"\\t\\t{p.name}\")\n",
    "        plt.savefig(p / f\"{outputname}.{p.name}\", \n",
    "                    bbox_inches=\"tight\",\n",
    "                    dpi=d[\"dpi\"],\n",
    "                    )\n",
    "    plt.close()\n",
    "\n",
    "    return None"
   ]
  },
  {
   "attachments": {},
   "cell_type": "markdown",
   "metadata": {},
   "source": [
    "Creating plot directories if not already existing."
   ]
  },
  {
   "cell_type": "code",
   "execution_count": 55,
   "metadata": {},
   "outputs": [],
   "source": [
    "plot_folders = [\"png\", \"pdf\", \"svg\"]\n",
    "plot_paths = [Path.cwd() / folder for folder in plot_folders]\n",
    "for p in plot_paths:\n",
    "    if not p.exists():\n",
    "        p.mkdir()"
   ]
  },
  {
   "attachments": {},
   "cell_type": "markdown",
   "metadata": {},
   "source": [
    "Plotting."
   ]
  },
  {
   "cell_type": "code",
   "execution_count": 56,
   "metadata": {},
   "outputs": [
    {
     "name": "stdout",
     "output_type": "stream",
     "text": [
      "--------------------------------------------------------------------------------\n",
      "Plotting...\n",
      "\txy overview...\n",
      "\t\tpng\n",
      "\t\tpdf\n",
      "\t\tsvg\n",
      "\techem...\n",
      "\t\tpng\n",
      "\t\tpdf\n",
      "\t\tsvg\n",
      "\txy overview w. echem...\n",
      "\t\tpng\n",
      "\t\tpdf\n",
      "\t\tsvg\n",
      "Done.\n",
      "--------------------------------------------------------------------------------\n",
      "Please see the ['png', 'pdf', 'svg'] folders.\n"
     ]
    }
   ],
   "source": [
    "print(f\"{80*'-'}\\nPlotting...\\n\\txy overview...\")\n",
    "plot_xy(x, array, D_PLOT, plot_paths)\n",
    "print(f\"\\techem...\")\n",
    "plot_echem(time, voltage, D_PLOT, plot_paths)\n",
    "print(f\"\\txy overview w. echem...\")\n",
    "plot_xy_echem(D_XY, D_EC, D_PLOT, plot_paths)\n",
    "print(f\"Done.\\n{80*'-'}\\nPlease see the {plot_folders} folders.\")"
   ]
  }
 ],
 "metadata": {
  "kernelspec": {
   "display_name": "py311",
   "language": "python",
   "name": "python3"
  },
  "language_info": {
   "codemirror_mode": {
    "name": "ipython",
    "version": 3
   },
   "file_extension": ".py",
   "mimetype": "text/x-python",
   "name": "python",
   "nbconvert_exporter": "python",
   "pygments_lexer": "ipython3",
   "version": "3.11.3"
  },
  "orig_nbformat": 4
 },
 "nbformat": 4,
 "nbformat_minor": 2
}
