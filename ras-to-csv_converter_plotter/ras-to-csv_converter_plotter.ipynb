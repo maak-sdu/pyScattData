{
 "cells": [
  {
   "cell_type": "code",
   "execution_count": 2,
   "id": "4d9df4a6",
   "metadata": {},
   "outputs": [
    {
     "name": "stdout",
     "output_type": "stream",
     "text": [
      "------------------------------------------------------------------------------------------\n",
      "Converting ras files to csv files and plotting...\n",
      "\n",
      "ras files have been converted to csv files that are saved to the csv folder.            \n",
      "Plots have been saved to the png and pdf folders.\n",
      "------------------------------------------------------------------------------------------\n"
     ]
    }
   ],
   "source": [
    "import sys\n",
    "from pathlib import Path\n",
    "import numpy as np\n",
    "import matplotlib.pyplot as plt\n",
    "import codecs\n",
    "\n",
    "DPI = 300\n",
    "FIGSIZE = (12,4)\n",
    "FONTSIZE = 16\n",
    "\n",
    "# Billinge group colors\n",
    "bg_blue, bg_red, bg_green = '#0B3C5D', '#B82601', '#1c6b0a'\n",
    "bg_lightblue, bg_darkblue, bg_yellow = '#328CC1', '#062F4F', '#D9B310'\n",
    "bg_darkred, bg_bordeaux, bg_olivegreen = '#984B43', '#76323F', '#626E60'\n",
    "bg_yellowgrey, bg_brownorange = '#AB987A', '#C09F80'\n",
    "\n",
    "COLOR = bg_blue\n",
    "\n",
    "def ras_to_csv_converter_plotter():\n",
    "    if not (Path.cwd() / 'ras').exists():\n",
    "        print(f\"{90*'-'}\\nPlease make a folder called 'ras' and place your files there.\\\n",
    "                \\n{90*'-'}\")\n",
    "    files = list((Path.cwd() / 'ras').glob(\"*.ras\"))\n",
    "    if len(files) == 0:\n",
    "        print(f\"{90*'-'}\\nPlease place your files in the 'ras' folder.\\\n",
    "                \\n{90*'-'}\")\n",
    "    print(f\"{90*'-'}\\nConverting ras files to csv files and plotting...\")\n",
    "    folders = ['csv', 'png', 'pdf']\n",
    "    for folder in folders:\n",
    "        if not (Path.cwd() / folder).exists():\n",
    "            (Path.cwd() / folder).mkdir()\n",
    "    for e in files:\n",
    "        filename = e.stem\n",
    "        tt, int_exp = [], []\n",
    "        with codecs.open(e, 'r', 'charmap') as f:\n",
    "            lines = f.readlines()\n",
    "        for i in range(0, len(lines)):\n",
    "            if '*RAS_INT_START' in lines[i]:\n",
    "                start = i + 1\n",
    "            elif '*RAS_INT_END' in lines[i]:\n",
    "                end = i\n",
    "        for i in range(start, end):\n",
    "            tt.append(float(lines[i].split()[0]))\n",
    "            int_exp.append(float(lines[i].split()[1]))\n",
    "        tt, int_exp = np.array(tt), np.array(int_exp)\n",
    "        tt_int_exp = np.column_stack((tt, int_exp))\n",
    "        np.savetxt(f\"csv/{filename}.csv\", tt_int_exp, delimiter=\",\", fmt=\"%.3f\")\n",
    "        plt.figure(dpi=DPI, figsize=FIGSIZE)\n",
    "        plt.plot(tt, int_exp, c=COLOR)\n",
    "        plt.xlim(np.amin(tt), np.amax(tt))\n",
    "        plt.xlabel(r\"$2\\theta$ $[\\degree]$\", fontsize=FONTSIZE)\n",
    "        plt.ylabel(r\"$I$ $[\\mathrm{counts}]$\", fontsize=FONTSIZE)\n",
    "        plt.ticklabel_format(style='sci', axis='y', scilimits=(0,0))\n",
    "        plt.savefig(f\"png/{filename}.png\", bbox_inches='tight')\n",
    "        plt.savefig(f\"pdf/{filename}.pdf\", bbox_inches='tight')\n",
    "        plt.close()\n",
    "    print(f\"\\nras files have been converted to csv files that are saved to the csv folder.\\\n",
    "            \\nPlots have been saved to the png and pdf folders.\\n{90*'-'}\")\n",
    "    return None\n",
    "\n",
    "def main():\n",
    "    ras_to_csv_converter_plotter()\n",
    "\n",
    "    return None\n",
    "\n",
    "\n",
    "if __name__ == \"__main__\":\n",
    "    main()\n",
    "\n",
    "# End of file.\n"
   ]
  },
  {
   "cell_type": "code",
   "execution_count": null,
   "id": "b271488c",
   "metadata": {},
   "outputs": [],
   "source": []
  }
 ],
 "metadata": {
  "kernelspec": {
   "display_name": "Python 3",
   "language": "python",
   "name": "python3"
  },
  "language_info": {
   "codemirror_mode": {
    "name": "ipython",
    "version": 3
   },
   "file_extension": ".py",
   "mimetype": "text/x-python",
   "name": "python",
   "nbconvert_exporter": "python",
   "pygments_lexer": "ipython3",
   "version": "3.7.9"
  }
 },
 "nbformat": 4,
 "nbformat_minor": 5
}
