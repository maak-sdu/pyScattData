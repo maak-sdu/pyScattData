{
 "cells": [
  {
   "attachments": {},
   "cell_type": "markdown",
   "metadata": {},
   "source": [
    "Imports"
   ]
  },
  {
   "cell_type": "code",
   "execution_count": null,
   "metadata": {},
   "outputs": [],
   "source": [
    "import sys\n",
    "from pathlib import Path\n",
    "import numpy as np\n",
    "import matplotlib as mpl\n",
    "import matplotlib.colors as mcolors\n",
    "import matplotlib.pyplot as plt\n",
    "from diffpy.utils.parsers.loaddata import loadData\n",
    "from bg_mpl_stylesheet.bg_mpl_stylesheet import bg_mpl_style"
   ]
  },
  {
   "attachments": {},
   "cell_type": "markdown",
   "metadata": {},
   "source": [
    "Voltage label to use when plotting."
   ]
  },
  {
   "cell_type": "code",
   "execution_count": null,
   "metadata": {},
   "outputs": [],
   "source": [
    "D_ELABELS = dict(li=\"$E_{\\mathrm{we}}\\;\\mathrm{vs.\\;Li/Li^{+}\\;[V]}$\",\n",
    "                 la=\"$E_{\\mathrm{we}}\\;\\mathrm{vs.\\;Na/Na^{+}\\;[V]}$\",\n",
    "                 general=\"$V\\;[\\mathrm{V}]$\",\n",
    "                 )\n",
    "ELABEL = D_ELABELS[\"li\"]"
   ]
  },
  {
   "attachments": {},
   "cell_type": "markdown",
   "metadata": {},
   "source": [
    "Stating the file name of the iPython notebook."
   ]
  },
  {
   "cell_type": "code",
   "execution_count": null,
   "metadata": {},
   "outputs": [],
   "source": [
    "nb_name = \"xy_overview_stack.ipynb\""
   ]
  },
  {
   "attachments": {},
   "cell_type": "markdown",
   "metadata": {},
   "source": [
    "Dictionary with plot settings."
   ]
  },
  {
   "cell_type": "code",
   "execution_count": null,
   "metadata": {},
   "outputs": [],
   "source": [
    "D_PLOT = dict(dpi=600,\n",
    "              figsize=(12, 12),\n",
    "              height_ratio=(1, 1, 0.5),\n",
    "              fs_labels=20,\n",
    "              fs_ticks=14,\n",
    "              xmin_upper=1,\n",
    "              xmax_upper=10,\n",
    "              xmin_lower=10,\n",
    "              xmax_lower=20,\n",
    "              emin=1,\n",
    "              emax=3,\n",
    "              tlabel=\"$t\\;[\\mathrm{h}]$\",\n",
    "              elabel=ELABEL,\n",
    "              )"
   ]
  },
  {
   "attachments": {},
   "cell_type": "markdown",
   "metadata": {},
   "source": [
    "Printing the dictionary with plot settings."
   ]
  },
  {
   "cell_type": "code",
   "execution_count": null,
   "metadata": {},
   "outputs": [],
   "source": [
    "print(f\"{80*'-'}\\nThe following plot settings were found in the top of the \"\n",
    "      f\"{nb_name} file:\")\n",
    "for k in list(D_PLOT.keys()):\n",
    "      if len(k) < 8:\n",
    "            print(f\"\\t{k}\\t\\t{D_PLOT[k]}\")\n",
    "      else:\n",
    "            print(f\"\\t{k}\\t{D_PLOT[k]}\")\n",
    "print(f\"{80*'-'}\\nPlease change the settings and rerun the code if neccessary.\")"
   ]
  },
  {
   "attachments": {},
   "cell_type": "markdown",
   "metadata": {},
   "source": [
    "Checking whether code is executed from iPython notebook or terminal to be able \n",
    "to exit code properly."
   ]
  },
  {
   "cell_type": "code",
   "execution_count": null,
   "metadata": {},
   "outputs": [],
   "source": [
    "def is_nb():\n",
    "    shell = get_ipython().__class__.__name__\n",
    "    if shell == \"ZMQInteractiveShell\":\n",
    "        nb_bool = True\n",
    "    else:\n",
    "        nb_bool = False\n",
    "\n",
    "    return nb_bool"
   ]
  },
  {
   "attachments": {},
   "cell_type": "markdown",
   "metadata": {},
   "source": [
    "Checking whether `data_upper` and `data_lower` folders for data files exist."
   ]
  },
  {
   "cell_type": "code",
   "execution_count": null,
   "metadata": {},
   "outputs": [],
   "source": [
    "data_upper_path = Path.cwd() / \"data_upper\"\n",
    "data_lower_path = Path.cwd() / \"data_lower\"\n",
    "data_paths = [data_upper_path, data_lower_path]\n",
    "for p in data_paths:\n",
    "    if not p.exists():\n",
    "        p.mkdir()\n",
    "        s = f\"{80*'-'}\\nA folder called '{p.name}' has been created.\\n\"\n",
    "        s += f\"Please put your data files there and rerun the code.\\n{80*'-'}\"\n",
    "        print(s)\n",
    "        if is_nb():\n",
    "            exit(keep_kernel=True)\n",
    "        else:\n",
    "            exit()"
   ]
  },
  {
   "attachments": {},
   "cell_type": "markdown",
   "metadata": {},
   "source": [
    "Checking whether any data files are present in the `data_upper` folder."
   ]
  },
  {
   "cell_type": "code",
   "execution_count": null,
   "metadata": {},
   "outputs": [],
   "source": [
    "data_upper_files = list(data_upper_path.glob(\"*.*\"))\n",
    "if len(data_upper_files) == 0:\n",
    "    s = f\"{80*'-'}\\nNo files were found in the '{data_upper_path.name}' folder.\"\n",
    "    s += f\"\\nPlease put your data files there and rerun the code.\\n{80*'-'}\"\n",
    "    print(s)\n",
    "    if is_nb():\n",
    "        exit(keep_kernel=True)\n",
    "    else:\n",
    "        exit()"
   ]
  },
  {
   "attachments": {},
   "cell_type": "markdown",
   "metadata": {},
   "source": [
    "Checking whether any data files are present in the `data_lower` folder."
   ]
  },
  {
   "cell_type": "code",
   "execution_count": null,
   "metadata": {},
   "outputs": [],
   "source": [
    "data_lower_files = list(data_lower_path.glob(\"*.*\"))\n",
    "if len(data_lower_files) == 0:\n",
    "    s = f\"{80*'-'}\\nNo files were found in the '{data_lower_path.name}' folder.\"\n",
    "    s += f\"\\nPlease put your data files there and rerun the code.\\n{80*'-'}\"\n",
    "    print(s)\n",
    "    if is_nb():\n",
    "        exit(keep_kernel=True)\n",
    "    else:\n",
    "        exit()"
   ]
  },
  {
   "attachments": {},
   "cell_type": "markdown",
   "metadata": {},
   "source": [
    "Checking whether `data_echem` folder exists."
   ]
  },
  {
   "cell_type": "code",
   "execution_count": null,
   "metadata": {},
   "outputs": [],
   "source": [
    "data_echem_path = Path.cwd() / \"data_echem\"\n",
    "if not data_echem_path.exists():\n",
    "    data_echem_path.mkdir()\n",
    "    s = f\"{80*'-'}\\nA folder called '{data_echem_path.name}' has been created.\"\n",
    "    s += f\"\\nPlease put your data files there and rerun the code.\\n{80*'-'}\"\n",
    "    print(s)\n",
    "    if is_nb():\n",
    "        exit(keep_kernel=True)\n",
    "    else:\n",
    "        exit()"
   ]
  },
  {
   "attachments": {},
   "cell_type": "markdown",
   "metadata": {},
   "source": [
    "Checking whether that a single file is present in the `data_echem` folder."
   ]
  },
  {
   "cell_type": "code",
   "execution_count": null,
   "metadata": {},
   "outputs": [],
   "source": [
    "data_echem_files = list(data_echem_path.glob(\"*.*\"))\n",
    "if len(data_echem_files) == 0:\n",
    "    s = f\"{80*'-'}\\nNo files were found in the '{data_echem_path.name}' folder.\"\n",
    "    s += f\"\\nPlease put your data file there and rerun the code.\\n{80*'-'}\"\n",
    "    print(s)\n",
    "    if is_nb():\n",
    "        exit(keep_kernel=True)\n",
    "    else:\n",
    "        exit()\n",
    "elif len(data_echem_files) > 1:\n",
    "    s = f\"{80*'-'}\\nMore than one file was found in the \"\n",
    "    s += f\"'{data_echem_path.name}' folder.\\nPlease put your single data file \"\n",
    "    s += f\"there and rerun the code.\\n{80*'-'}\"\n",
    "    print(s)\n",
    "    if is_nb():\n",
    "        exit(keep_kernel=True)\n",
    "    else:\n",
    "        exit()\n",
    "else:\n",
    "    data_echem_file = data_echem_files[0]"
   ]
  },
  {
   "attachments": {},
   "cell_type": "markdown",
   "metadata": {},
   "source": [
    "Function for checking that only one file extension is present among the data \n",
    "files."
   ]
  },
  {
   "cell_type": "code",
   "execution_count": null,
   "metadata": {},
   "outputs": [],
   "source": [
    "def suffix_check(files):\n",
    "    suffixes = []\n",
    "    for f in files:\n",
    "        if f.suffix not in suffixes:\n",
    "            suffixes.append(f.suffix)\n",
    "    if len(suffixes) > 1:\n",
    "        print(f\"{80*'-'}\\nThe following file extensions were found in the \"\n",
    "            f\"'{f.parent.name}' folder:\")\n",
    "        for suffix in suffixes:\n",
    "            print(f\"\\t{suffix}\")\n",
    "        s = f\"{80*'-'}\\nPlease review the '{f.parent.name}' folder to ensure \"\n",
    "        s += f\"that only one file extension is\\npresent.\\n{80*'-'}\"\n",
    "        print(s)\n",
    "        if is_nb():\n",
    "            exit(keep_kernel=True)\n",
    "        else:\n",
    "            exit()\n",
    "    else:\n",
    "        suffix = suffixes[0].strip(\".\")\n",
    "    \n",
    "    return suffix"
   ]
  },
  {
   "attachments": {},
   "cell_type": "markdown",
   "metadata": {},
   "source": [
    "Checking whether only one file extension is present among the data files for the\n",
    "`data_upper` and `data_lower` folders."
   ]
  },
  {
   "cell_type": "code",
   "execution_count": null,
   "metadata": {},
   "outputs": [],
   "source": [
    "D_PLOT[\"suffix_upper\"] = suffix_check(data_upper_files)\n",
    "D_PLOT[\"suffix_lower\"] = suffix_check(data_lower_files)"
   ]
  },
  {
   "attachments": {},
   "cell_type": "markdown",
   "metadata": {},
   "source": [
    "Updating dictionary with plot settings with labels according to the file \n",
    "extension of the data files."
   ]
  },
  {
   "cell_type": "code",
   "execution_count": null,
   "metadata": {},
   "outputs": [],
   "source": [
    "D_PLOT[\"xlabel\"] = \"scan number\"\n",
    "for e in [\"upper\", \"lower\"]:\n",
    "    k = f\"suffix_{e}\"\n",
    "    if D_PLOT[k] == \"gr\":\n",
    "        D_PLOT[f\"ylabel_{e}\"] = \"$r\\;[\\mathrm{\\AA}]$\"\n",
    "        D_PLOT[f\"cbarlabel_{e}\"] = \"$G\\;[\\mathrm{\\AA}^{-2}]$\"\n",
    "    elif D_PLOT[k] == \"fq\":\n",
    "        D_PLOT[f\"ylabel_{e}\"] = \"$Q\\;[\\mathrm{\\AA}^{-1}]$\"\n",
    "        D_PLOT[f\"cbarlabel_{e}\"] = \"$F\\;[\\mathrm{\\AA}^{-1}]$\"\n",
    "    else:\n",
    "        D_PLOT[f\"ylabel_{e}\"] = \"$Q\\;[\\mathrm{\\AA}^{-1}]$\"\n",
    "        D_PLOT[f\"cbarlabel_{e}\"] = \"$I\\;[\\mathrm{arb.\\;u.}]$\""
   ]
  },
  {
   "attachments": {},
   "cell_type": "markdown",
   "metadata": {},
   "source": [
    "Collecting x array from first data file and stacking y arrays into one array."
   ]
  },
  {
   "cell_type": "code",
   "execution_count": null,
   "metadata": {},
   "outputs": [],
   "source": [
    "D_XY = {}\n",
    "for e in [data_upper_files, data_lower_files]:\n",
    "    for i, f in enumerate(e):\n",
    "        data = loadData(f)\n",
    "        x, y = data[:, 0], data[:, 1]\n",
    "        if i == 0:\n",
    "            array = y\n",
    "        else:\n",
    "            array = np.column_stack((array, y))\n",
    "    D_XY[f.parent.name] = dict(x=x, array=array)"
   ]
  },
  {
   "attachments": {},
   "cell_type": "markdown",
   "metadata": {},
   "source": [
    "Collecting time and voltage for echem."
   ]
  },
  {
   "cell_type": "code",
   "execution_count": null,
   "metadata": {},
   "outputs": [],
   "source": [
    "DATA_ECHEM = np.loadtxt(data_echem_file)\n",
    "D_EC = dict(time=DATA_ECHEM[:, 0], voltage=DATA_ECHEM[:, 1])"
   ]
  },
  {
   "attachments": {},
   "cell_type": "markdown",
   "metadata": {},
   "source": [
    "Function to obtain indices for min and max values of array."
   ]
  },
  {
   "cell_type": "code",
   "execution_count": null,
   "metadata": {},
   "outputs": [],
   "source": [
    "def get_indices(array, min_value, max_value):\n",
    "    min_index, max_index = None, None\n",
    "    for i, e in enumerate(array):\n",
    "        if e >= min_value:\n",
    "            min_index = i\n",
    "            break\n",
    "    for i, e in enumerate(array):\n",
    "        if e >= max_value:\n",
    "            max_index = i\n",
    "            break\n",
    "    if isinstance(min_index, type(None)):\n",
    "        min_index = 0\n",
    "    if isinstance(max_index, type(None)):\n",
    "        max_index = len(array) - 1\n",
    "\n",
    "    return min_index, max_index"
   ]
  },
  {
   "attachments": {},
   "cell_type": "markdown",
   "metadata": {},
   "source": [
    "Shaping x array and stacked y array."
   ]
  },
  {
   "cell_type": "code",
   "execution_count": null,
   "metadata": {},
   "outputs": [],
   "source": [
    "for e in [\"upper\", \"lower\"]:\n",
    "    x, array = D_XY[f\"data_{e}\"][\"x\"], D_XY[f\"data_{e}\"][\"array\"]\n",
    "    xmin_index, xmax_index = get_indices(D_XY[f\"data_{e}\"][\"x\"],\n",
    "                                         D_PLOT[f\"xmin_{e}\"],\n",
    "                                         D_PLOT[f\"xmax_{e}\"],\n",
    "                                         )\n",
    "    if xmax_index < len(x) - 1:\n",
    "        x = x[xmin_index:xmax_index + 1]\n",
    "        array = array[xmin_index:xmax_index + 1, :]\n",
    "    else:\n",
    "        x, array = x[xmin_index:], array[xmin_index:, :]\n",
    "    D_XY[f\"data_{e}\"][\"x\"], D_XY[f\"data_{e}\"][\"array\"] = x, array\n",
    "    D_PLOT[f\"vmin_{e}\"], D_PLOT[f\"vmax_{e}\"] = np.amin(array), np.amax(array)"
   ]
  },
  {
   "attachments": {},
   "cell_type": "markdown",
   "metadata": {},
   "source": [
    "Function for shifting (diverging) colormap, such thast white corresponds to zero\n",
    "even if data is min and max is not symmetric around zero, i.e., if min != - max."
   ]
  },
  {
   "cell_type": "code",
   "execution_count": null,
   "metadata": {},
   "outputs": [],
   "source": [
    "def shiftedColorMap(cmap, start=0, midpoint=0.5, stop=1.0, name='shiftedcmap'):\n",
    "    '''\n",
    "    Function to offset the \"center\" of a colormap. Useful for\n",
    "    data with a negative min and positive max and you want the\n",
    "    middle of the colormap's dynamic range to be at zero.\n",
    "\n",
    "    Input\n",
    "    -----\n",
    "      cmap : The matplotlib colormap to be altered\n",
    "      start : Offset from lowest point in the colormap's range.\n",
    "          Defaults to 0.0 (no lower offset). Should be between\n",
    "          0.0 and `midpoint`.\n",
    "      midpoint : The new center of the colormap. Defaults to\n",
    "          0.5 (no shift). Should be between 0.0 and 1.0. In\n",
    "          general, this should be  1 - vmax / (vmax + abs(vmin))\n",
    "          For example if your data range from -15.0 to +5.0 and\n",
    "          you want the center of the colormap at 0.0, `midpoint`\n",
    "          should be set to  1 - 5/(5 + 15)) or 0.75\n",
    "      stop : Offset from highest point in the colormap's range.\n",
    "          Defaults to 1.0 (no upper offset). Should be between\n",
    "          `midpoint` and 1.0.\n",
    "    '''\n",
    "    cdict = {\n",
    "        'red': [],\n",
    "        'green': [],\n",
    "        'blue': [],\n",
    "        'alpha': []\n",
    "    }\n",
    "\n",
    "    # regular index to compute the colors\n",
    "    reg_index = np.linspace(start, stop, 257)\n",
    "\n",
    "    # shifted index to match the data\n",
    "    shift_index = np.hstack([\n",
    "        np.linspace(0.0, midpoint, 128, endpoint=False),\n",
    "        np.linspace(midpoint, 1.0, 129, endpoint=True)\n",
    "    ])\n",
    "\n",
    "    for ri, si in zip(reg_index, shift_index):\n",
    "        r, g, b, a = cmap(ri)\n",
    "\n",
    "        cdict['red'].append((si, r, r))\n",
    "        cdict['green'].append((si, g, g))\n",
    "        cdict['blue'].append((si, b, b))\n",
    "        cdict['alpha'].append((si, a, a))\n",
    "\n",
    "    newcmap = mcolors.LinearSegmentedColormap(name, cdict)\n",
    "    mpl.colormaps.register(cmap=newcmap, force=True)\n",
    "\n",
    "    return newcmap"
   ]
  },
  {
   "attachments": {},
   "cell_type": "markdown",
   "metadata": {},
   "source": [
    "Function to truncate (diverging) colormap to get the positive part."
   ]
  },
  {
   "cell_type": "code",
   "execution_count": null,
   "metadata": {},
   "outputs": [],
   "source": [
    "def truncate_colormap(cmap, minval=0.0, maxval=1.0, n=100):\n",
    "    new_cmap = mcolors.LinearSegmentedColormap.from_list(\n",
    "               'trunc({n},{a:.2f},{b:.2f})'.format(n=cmap.name,\n",
    "                                                   a=minval,\n",
    "                                                   b=maxval\n",
    "                                                   ),\n",
    "               cmap(np.linspace(minval, maxval, n)))\n",
    "\n",
    "    return new_cmap"
   ]
  },
  {
   "attachments": {},
   "cell_type": "markdown",
   "metadata": {},
   "source": [
    "Creating diverging colormap with user-defined colors, shrinking colormap to \n",
    "adapt to data min and max values to have white corresponding to zero, and \n",
    "truncating the diverging colormap to get its positive part."
   ]
  },
  {
   "cell_type": "code",
   "execution_count": null,
   "metadata": {},
   "outputs": [],
   "source": [
    "div_gradient = mcolors.LinearSegmentedColormap.from_list('div_gradient', (\n",
    "                 # Edit this gradient at \n",
    "                 # https://eltos.github.io/gradient/#0B3C5D-0B3C5D-FFFFFF-B82601-B82601\n",
    "                 (0.000, (0.043, 0.235, 0.365)),\n",
    "                 (0.250, (0.200, 0.400, 0.500)),\n",
    "                 (0.500, (1.000, 1.000, 1.000)),\n",
    "                 (0.750, (0.850, 0.200, 0.100)),\n",
    "                 (1.000, (0.722, 0.149, 0.004))))\n",
    "for e in [\"upper\", \"lower\"]:\n",
    "    vmin, vmax = D_PLOT[f\"vmin_{e}\"], D_PLOT[f\"vmax_{e}\"]\n",
    "    mp = 1 - vmax / (vmax + abs(vmin))\n",
    "    D_PLOT[f\"cmap_shrunk_{e}\"] = shiftedColorMap(div_gradient, \n",
    "                                                 start=0, \n",
    "                                                 midpoint=mp, \n",
    "                                                 stop=1, \n",
    "                                                 name=f'shrunk_{e}',\n",
    "                                                 )\n",
    "    D_PLOT[f\"cmap_trunc_{e}\"] = truncate_colormap(div_gradient, 0.5, 1)"
   ]
  },
  {
   "attachments": {},
   "cell_type": "markdown",
   "metadata": {},
   "source": [
    "Updating dictionary with plot settings to include colormap."
   ]
  },
  {
   "cell_type": "code",
   "execution_count": null,
   "metadata": {},
   "outputs": [],
   "source": [
    "for e in [\"upper\", \"lower\"]:\n",
    "    if D_PLOT[f\"suffix_{e}\"] in [\"gr\", \"fq\"]:\n",
    "        D_PLOT[f\"cmap_{e}\"] = D_PLOT[f\"cmap_shrunk_{e}\"]\n",
    "    else:\n",
    "        D_PLOT[f\"cmap_{e}\"] = D_PLOT[f\"cmap_trunc_{e}\"]"
   ]
  },
  {
   "attachments": {},
   "cell_type": "markdown",
   "metadata": {},
   "source": [
    "Plot function."
   ]
  },
  {
   "cell_type": "code",
   "execution_count": null,
   "metadata": {},
   "outputs": [],
   "source": [
    "def plot(d_xy, d_ec, d, output_paths):\n",
    "    plt.style.use(bg_mpl_style)\n",
    "    fig = plt.figure(figsize=d[\"figsize\"])\n",
    "    grid = plt.GridSpec(nrows=3, \n",
    "                        ncols=2,\n",
    "                        hspace=0.1,\n",
    "                        height_ratios=d[\"height_ratio\"], \n",
    "                        width_ratios=(1, 0.135),\n",
    "                        )\n",
    "    axs = [fig.add_subplot(grid[0, 0:]), \n",
    "           fig.add_subplot(grid[1, 0:]), \n",
    "           fig.add_subplot(grid[2, 0]),\n",
    "           ]\n",
    "    outputname = \"\"\n",
    "    for i, k in enumerate(d_xy.keys()):\n",
    "        e = k.split(\"_\")[-1]\n",
    "        x, array = d_xy[k][\"x\"], d_xy[k][\"array\"]\n",
    "        im = axs[i].imshow(array,\n",
    "                           interpolation=\"none\",\n",
    "                           aspect=\"auto\",\n",
    "                           extent=(0, \n",
    "                                   array.shape[1], \n",
    "                                   d[f\"xmax_{e}\"], \n",
    "                                   d[f\"xmin_{e}\"],\n",
    "                                   ),\n",
    "                           vmin=np.amin(array),\n",
    "                           vmax=np.amax(array),\n",
    "                           cmap=d[f\"cmap_{e}\"],\n",
    "                           )\n",
    "        if i == 0:\n",
    "            axs[i].tick_params(axis=\"x\",\n",
    "                            top=True,\n",
    "                            bottom=True,\n",
    "                            labeltop=True,\n",
    "                            labelbottom=False,\n",
    "                            )\n",
    "            axs[i].set_xlabel(d[\"xlabel\"], fontsize=d[\"fs_labels\"])\n",
    "            axs[i].xaxis.set_label_position(\"top\")\n",
    "        else:\n",
    "            axs[i].tick_params(axis=\"x\",\n",
    "                               top=True,\n",
    "                               bottom=True,\n",
    "                               labeltop=False,\n",
    "                               labelbottom=False,\n",
    "                               )  \n",
    "        axs[i].tick_params(axis=\"y\",\n",
    "                           left=True,\n",
    "                           right=True,\n",
    "                           labelleft=True,\n",
    "                           labelright=False,\n",
    "                           )                  \n",
    "        axs[i].set_ylabel(ylabel=d[f\"ylabel_{e}\"], fontsize=d[\"fs_labels\"])\n",
    "        axs[i].minorticks_on()\n",
    "        cbar = plt.colorbar(im)\n",
    "        cbar.set_label(label=d[f\"cbarlabel_{e}\"], fontsize=d[\"fs_labels\"])\n",
    "        if d[f\"cbarlabel_{e}\"] == \"$I\\;[\\mathrm{arb.\\;u.}]$\":\n",
    "            cbar.formatter.set_powerlimits((0, 0))\n",
    "            cbar.ax.yaxis.set_offset_position('left')\n",
    "            cbar.update_ticks()\n",
    "        outputname += f\"{d[f'suffix_{e}']}_\"\n",
    "    axs[-1].plot(d_ec[\"time\"], d_ec[\"voltage\"])\n",
    "    axs[-1].set_xlim(np.amin(d_ec[\"time\"]), np.amax(d_ec[\"time\"]))\n",
    "    axs[-1].set_ylim(d[\"emin\"], d[\"emax\"])\n",
    "    axs[-1].set_xlabel(d[\"tlabel\"], fontsize=d[\"fs_labels\"])\n",
    "    axs[-1].set_ylabel(d[\"elabel\"], fontsize=d[\"fs_labels\"])\n",
    "    axs[-1].minorticks_on()\n",
    "    \n",
    "    outputname += f\"overview_echem\"\n",
    "    for p in output_paths:\n",
    "        print(f\"\\t{p.name}\")\n",
    "        plt.savefig(p / f\"{outputname}.{p.name}\", \n",
    "                    bbox_inches=\"tight\",\n",
    "                    dpi=d[\"dpi\"],\n",
    "                    )\n",
    "    plt.close()\n",
    "\n",
    "    return None"
   ]
  },
  {
   "attachments": {},
   "cell_type": "markdown",
   "metadata": {},
   "source": [
    "Creating plot directories if not already existing."
   ]
  },
  {
   "cell_type": "code",
   "execution_count": null,
   "metadata": {},
   "outputs": [],
   "source": [
    "plot_folders = [\"png\", \"pdf\", \"svg\"]\n",
    "plot_paths = [Path.cwd() / folder for folder in plot_folders]\n",
    "for p in plot_paths:\n",
    "    if not p.exists():\n",
    "        p.mkdir()"
   ]
  },
  {
   "attachments": {},
   "cell_type": "markdown",
   "metadata": {},
   "source": [
    "Plotting."
   ]
  },
  {
   "cell_type": "code",
   "execution_count": null,
   "metadata": {},
   "outputs": [],
   "source": [
    "print(f\"{80*'-'}\\nPlotting...\")\n",
    "plot(D_XY, D_EC, D_PLOT, plot_paths)\n",
    "print(f\"Done.\\n{80*'-'}\\nPlease see the {plot_folders} folders.\")"
   ]
  }
 ],
 "metadata": {
  "kernelspec": {
   "display_name": "py311",
   "language": "python",
   "name": "python3"
  },
  "language_info": {
   "codemirror_mode": {
    "name": "ipython",
    "version": 3
   },
   "file_extension": ".py",
   "mimetype": "text/x-python",
   "name": "python",
   "nbconvert_exporter": "python",
   "pygments_lexer": "ipython3",
   "version": "3.11.3"
  },
  "orig_nbformat": 4
 },
 "nbformat": 4,
 "nbformat_minor": 2
}
