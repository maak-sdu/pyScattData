{
 "cells": [
  {
   "attachments": {},
   "cell_type": "markdown",
   "metadata": {},
   "source": [
    "# Background scales and subtraction for $xy$-like data files in $Q$-space\n",
    "\n",
    "May, 2023  \n",
    "Martin Aaskov Karlsen  \n",
    "Postdoc  \n",
    "Ravnsbæk Group  \n",
    "Aarhus University  \n",
    "\n",
    "This iPython notebook is meant for background subtraction for $xy$-like files in\n",
    "$Q$-space, i.e., reciprocal space.  \n",
    "The data files and the background file should\n",
    "be place in a folder, e.g., `chi`.  \n",
    "The user will need to specify the name of the folder containing the files \n",
    "together with the name of the background file.\n",
    "\n",
    "Background scale factors will be saved to a .txt file.  \n",
    "Background-subtracted data files will be written and will be plotted."
   ]
  },
  {
   "attachments": {},
   "cell_type": "markdown",
   "metadata": {},
   "source": [
    "Imports."
   ]
  },
  {
   "cell_type": "code",
   "execution_count": null,
   "metadata": {},
   "outputs": [],
   "source": [
    "from pathlib import Path\n",
    "import numpy as np\n",
    "import matplotlib.pyplot as plt"
   ]
  },
  {
   "attachments": {},
   "cell_type": "markdown",
   "metadata": {},
   "source": [
    "Specify path for directory containing data files and background file."
   ]
  },
  {
   "cell_type": "code",
   "execution_count": null,
   "metadata": {},
   "outputs": [],
   "source": [
    "data_path = Path.cwd() / \"chi\""
   ]
  },
  {
   "attachments": {},
   "cell_type": "markdown",
   "metadata": {},
   "source": [
    "Specify name of background file."
   ]
  },
  {
   "cell_type": "code",
   "execution_count": null,
   "metadata": {},
   "outputs": [],
   "source": [
    "bkg_file = \"DBR_001_600s_0abs_SDD290mm_sum_9070_9079_0.chi\"\n",
    "bkg_path = data_path / bkg_file"
   ]
  },
  {
   "attachments": {},
   "cell_type": "markdown",
   "metadata": {},
   "source": [
    "Collecting data files."
   ]
  },
  {
   "cell_type": "code",
   "execution_count": null,
   "metadata": {},
   "outputs": [],
   "source": [
    "data_files = list(data_path.glob(\"*.chi\"))\n",
    "data_files = [f for f in data_files if not f.name == bkg_file]"
   ]
  },
  {
   "attachments": {},
   "cell_type": "markdown",
   "metadata": {},
   "source": [
    "Function to obtain scale maximum scale factor for background resulting in no\n",
    "negative intensity values for the background-subtracted data."
   ]
  },
  {
   "cell_type": "code",
   "execution_count": null,
   "metadata": {},
   "outputs": [],
   "source": [
    "def bkg_scale(file, bkg):\n",
    "    x, y = np.loadtxt(file).T\n",
    "    x_bkg, y_bkg = np.loadtxt(bkg).T\n",
    "    scale = 1\n",
    "    ydiff = y - (scale * y_bkg)\n",
    "    for i in range(1, 11):\n",
    "        scale_step = 10**-i\n",
    "        upscale, downscale = False, False\n",
    "        if np.any(ydiff < 0):\n",
    "            downscale = True        \n",
    "        else:\n",
    "            upscale = True\n",
    "        while upscale:\n",
    "            scale += scale_step\n",
    "            ydiff = y - (scale * y_bkg)\n",
    "            if np.any(ydiff < 0):\n",
    "                upscale = False\n",
    "                scale -= scale_step\n",
    "            else:\n",
    "                upscale = True\n",
    "\n",
    "        while downscale:\n",
    "            scale -= scale_step\n",
    "            ydiff = y - (scale * y_bkg)\n",
    "            if np.any(ydiff < 0):\n",
    "                downscale = True\n",
    "            else:\n",
    "                downscale = False\n",
    "\n",
    "    return scale"
   ]
  },
  {
   "attachments": {},
   "cell_type": "markdown",
   "metadata": {},
   "source": [
    "Function for subtracting background."
   ]
  },
  {
   "cell_type": "code",
   "execution_count": null,
   "metadata": {},
   "outputs": [],
   "source": [
    "def bkg_subtraction(data_file, bkg_file, scale, outputpath):\n",
    "    x, y = np.loadtxt(data_file).T\n",
    "    x_bkg, y_bkg = np.loadtxt(bkg_file).T\n",
    "    y_sub = y - (scale * y_bkg)\n",
    "    outputpath_full = outputpath / f\"{data_file.stem}_bkgsub{data_file.suffix}\"\n",
    "    np.savetxt(outputpath_full,\n",
    "               np.column_stack((x, y_sub)),\n",
    "               delimiter=\"\\t\",\n",
    "               encoding=\"utf8\",\n",
    "               )\n",
    "    \n",
    "    return np.column_stack((x, y_sub))"
   ]
  },
  {
   "attachments": {},
   "cell_type": "markdown",
   "metadata": {},
   "source": [
    "Function for plotting the background-subtracted data."
   ]
  },
  {
   "cell_type": "code",
   "execution_count": null,
   "metadata": {},
   "outputs": [],
   "source": [
    "def plot(xy_sub, name, output_paths):\n",
    "    dpi = 600\n",
    "    figsize = (12, 4)\n",
    "    fontsize_labels = 20\n",
    "    fontsize_ticks = 14\n",
    "    xlabel = \"$Q\\;[\\mathrm{\\AA}^{-1}]$\"\n",
    "    ylabel = \"$I\\;[\\mathrm{arb.\\;u.}]$\"\n",
    "    x, y = xy_sub.T\n",
    "    fig, ax = plt.subplots(figsize=figsize)\n",
    "    ax.plot(x, y)\n",
    "    ax.set_xlim(np.amin(x), np.amax(x))\n",
    "    ax.set_xlabel(xlabel, fontsize=fontsize_labels)\n",
    "    ax.set_ylabel(ylabel, fontsize=fontsize_labels)\n",
    "    ax.ticklabel_format(axis=\"y\", style=\"sci\", scilimits=(0, 0))\n",
    "    ax.tick_params(axis=\"both\", labelsize=fontsize_ticks)\n",
    "    ax.minorticks_on()\n",
    "    for p in output_paths:\n",
    "        print(f\"\\t\\t{p.name}\")\n",
    "        plt.savefig(p / f\"{name}.{p.name}\", bbox_inches=\"tight\", dpi=dpi)\n",
    "    plt.close()\n",
    "\n",
    "    return None"
   ]
  },
  {
   "attachments": {},
   "cell_type": "markdown",
   "metadata": {},
   "source": [
    "Creating output paths if not already existing."
   ]
  },
  {
   "cell_type": "code",
   "execution_count": null,
   "metadata": {},
   "outputs": [],
   "source": [
    "txt_path = Path.cwd() / \"txt\"\n",
    "bkgsub_path = Path.cwd() / f\"{data_path.name}_bkgsub\"\n",
    "for p in [txt_path, bkgsub_path]:\n",
    "    if not p.exists():\n",
    "        p.mkdir()\n",
    "plot_folders = [\"png\", \"pdf\", \"svg\"]\n",
    "plot_paths = [Path.cwd() / folder for folder in plot_folders]\n",
    "for p in plot_paths:\n",
    "    if not p.exists():\n",
    "        p.mkdir()"
   ]
  },
  {
   "attachments": {},
   "cell_type": "markdown",
   "metadata": {},
   "source": [
    "Obtaining and collecting scale factors, writing background-subtracted data files\n",
    "and plotting the background-subtracted data."
   ]
  },
  {
   "cell_type": "code",
   "execution_count": null,
   "metadata": {},
   "outputs": [],
   "source": [
    "scales = []\n",
    "for i, f in enumerate(data_files):\n",
    "    print(f\"file {i+1}\\n\\t{f.name}\")\n",
    "    scale = bkg_scale(f, bkg_path)\n",
    "    print(f\"\\tscale:\\t{scale:.10f}\")\n",
    "    scales.append(scale)\n",
    "    xy_sub = bkg_subtraction(f, bkg_path, scale, bkgsub_path)\n",
    "    plot(xy_sub, f.stem, plot_paths)"
   ]
  },
  {
   "attachments": {},
   "cell_type": "markdown",
   "metadata": {},
   "source": [
    "Collecting scale factors and file names, making string with these, and writing\n",
    "to .txt file."
   ]
  },
  {
   "cell_type": "code",
   "execution_count": null,
   "metadata": {},
   "outputs": [],
   "source": [
    "idx_scale_name = list(zip(range(len(scales)), \n",
    "                          scales, \n",
    "                          [f.name for f in data_files],\n",
    "                          ))\n",
    "s = \"index\\tscale\\t\\tfilename\\n\"\n",
    "for e in idx_scale_name:\n",
    "    idx, scale, name = e\n",
    "    s += f\"{idx}\\t{scale}\\t{name}\\n\"\n",
    "output_path = txt_path / \"bkg_scales.txt\"\n",
    "with output_path.open(mode=\"w\", encoding=\"utf-8\") as o:\n",
    "    o.write(s)"
   ]
  }
 ],
 "metadata": {
  "kernelspec": {
   "display_name": "py311",
   "language": "python",
   "name": "python3"
  },
  "language_info": {
   "codemirror_mode": {
    "name": "ipython",
    "version": 3
   },
   "file_extension": ".py",
   "mimetype": "text/x-python",
   "name": "python",
   "nbconvert_exporter": "python",
   "pygments_lexer": "ipython3",
   "version": "3.11.3"
  },
  "orig_nbformat": 4
 },
 "nbformat": 4,
 "nbformat_minor": 2
}
