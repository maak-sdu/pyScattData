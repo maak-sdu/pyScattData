{
 "cells": [
  {
   "attachments": {},
   "cell_type": "markdown",
   "metadata": {},
   "source": [
    "Imports."
   ]
  },
  {
   "cell_type": "code",
   "execution_count": null,
   "metadata": {},
   "outputs": [],
   "source": [
    "import sys\n",
    "from pathlib import Path\n",
    "import numpy as np\n",
    "import matplotlib.pyplot as plt"
   ]
  },
  {
   "attachments": {},
   "cell_type": "markdown",
   "metadata": {},
   "source": [
    "Plot settings."
   ]
  },
  {
   "cell_type": "code",
   "execution_count": null,
   "metadata": {},
   "outputs": [],
   "source": [
    "DPI = 300\n",
    "FIGSIZE = (12,4)\n",
    "FONTSIZE = 16\n",
    "\n",
    "# Billinge group colors\n",
    "COLORS = dict(bg_blue=\"#0B3C5D\", \n",
    "              bg_red=\"#B82601\", \n",
    "              bg_green=\"#1c6b0a\",\n",
    "              bg_lightblue=\"#328CC1\", \n",
    "              bg_darkblue=\"#062F4F\", \n",
    "              bg_yellow=\"#D9B310\",\n",
    "              bg_darkred=\"#984B43\", \n",
    "              bg_bordeaux=\"#76323F\", \n",
    "              bg_olivegreen=\"#626E60\",\n",
    "              bg_yellowgrey=\"#AB987A\", \n",
    "              bg_brownorange=\"#C09F80\",\n",
    "              )\n",
    "COLOR = COLORS[\"bg_blue\"]"
   ]
  },
  {
   "attachments": {},
   "cell_type": "markdown",
   "metadata": {},
   "source": [
    "Function to convert .asc to .csv and plotting data."
   ]
  },
  {
   "cell_type": "code",
   "execution_count": null,
   "metadata": {},
   "outputs": [],
   "source": [
    "def asc_to_csv_converter_plotter(files, csvpath, plotpaths):\n",
    "    for e in files:\n",
    "        print(f\"\\t{e.name}\")\n",
    "        filename = e.stem\n",
    "        with open(e) as f:\n",
    "            lines = f.readlines()\n",
    "        for i in range(len(lines)):\n",
    "            if \"*START\" in lines[i]:\n",
    "                start_tt = float(lines[i].split()[-1])\n",
    "            elif \"*STOP\" in lines[i]:\n",
    "                stop_tt = float(lines[i].split()[-1])\n",
    "            elif \"*STEP\" in lines[i]:\n",
    "                step_tt = float(lines[i].split()[-1])\n",
    "            elif \"*COUNT\" in lines[i]:\n",
    "                start_int = i+1\n",
    "            elif \"*END\" in lines[i]:\n",
    "                end_int = i\n",
    "        tt = np.arange(start_tt, stop_tt+step_tt, step_tt)\n",
    "        int_exp = []\n",
    "        for i in range(start_int, end_int):\n",
    "            for j in range(len(lines[i].split(\",\"))):\n",
    "                int_exp.append(float(lines[i].split(\",\")[j]))\n",
    "        int_exp = np.array(int_exp)\n",
    "        tt_int_exp = np.column_stack((tt, int_exp))\n",
    "        print(f\"\\t\\t{csvpath.name}\")\n",
    "        np.savetxt(csvpath / f\"{filename}.csv\", \n",
    "                   tt_int_exp, \n",
    "                   delimiter=\",\", \n",
    "                   fmt=\"%.3f\",\n",
    "                   )\n",
    "        fig, ax = plt.subplots(figsize=FIGSIZE)\n",
    "        ax.plot(tt, int_exp, c=COLOR)\n",
    "        ax.set_xlim(np.amin(tt), np.amax(tt))\n",
    "        ax.set_xlabel(r\"$2\\theta$ $[\\degree]$\", fontsize=FONTSIZE)\n",
    "        ax.set_ylabel(r\"$I$ $[\\mathrm{counts}]$\", fontsize=FONTSIZE)\n",
    "        ax.ticklabel_format(style='sci', axis='y', scilimits=(0,0))\n",
    "        for p in plotpaths:\n",
    "            print(f\"\\t\\t{p.name}\")\n",
    "            plt.savefig(p / f\"{filename}.{p.name}\", bbox_inches=\"tight\")\n",
    "        plt.close()\n",
    "\n",
    "    return None"
   ]
  },
  {
   "attachments": {},
   "cell_type": "markdown",
   "metadata": {},
   "source": [
    "Creating ouput paths."
   ]
  },
  {
   "cell_type": "code",
   "execution_count": null,
   "metadata": {},
   "outputs": [],
   "source": [
    "folders = [\"csv\", \"png\", \"pdf\", \"svg\"]\n",
    "paths = [Path.cwd() / folder for folder in folders]\n",
    "for p in paths:\n",
    "    if not p.exists():\n",
    "        p.mkdir()\n",
    "csvpath = Path.cwd() / \"csv\"\n",
    "plotpaths = [p for p in paths if not p.name == \"csv\"]\n",
    "plotfolders = [p.name for p in paths if not p.name == \"csv\"]"
   ]
  },
  {
   "attachments": {},
   "cell_type": "markdown",
   "metadata": {},
   "source": [
    "Collecting data .asc files."
   ]
  },
  {
   "cell_type": "code",
   "execution_count": null,
   "metadata": {},
   "outputs": [],
   "source": [
    "if not (Path.cwd() / 'asc').exists():\n",
    "    (Path.cwd() / 'asc').mkdir()\n",
    "    print(f\"{80*'-'}\\nA folder called 'asc' has been made. Please place your files there and rerun the code.\\\n",
    "            \\n{80*'-'}\")\n",
    "    sys.exit()\n",
    "files = list((Path.cwd() / 'asc').glob(\"*.asc\"))\n",
    "if len(files) == 0:\n",
    "    print(f\"{80*'-'}\\nNo .asc files found in the 'asc' folder. Please place your files there and rerun the code.\\\n",
    "            \\n{80*'-'}\")\n",
    "    sys.exit()"
   ]
  },
  {
   "attachments": {},
   "cell_type": "markdown",
   "metadata": {},
   "source": [
    "Converting asc files to csv files and plotting."
   ]
  },
  {
   "cell_type": "code",
   "execution_count": null,
   "metadata": {},
   "outputs": [],
   "source": [
    "print(f\"{80*'-'}\\nConverting asc files to csv files and plotting...\")\n",
    "asc_to_csv_converter_plotter(files, csvpath, plotpaths)\n",
    "print(f\"{80*'-'}\\n.asc files have been converted to .csv files and saved to \"\n",
    "        f\"the 'csv' folder.\\nPlots have been saved to the {plotfolders} \"\n",
    "        f\"folders.\\n{80*'-'}\")"
   ]
  }
 ],
 "metadata": {
  "kernelspec": {
   "display_name": "py311",
   "language": "python",
   "name": "python3"
  },
  "language_info": {
   "codemirror_mode": {
    "name": "ipython",
    "version": 3
   },
   "file_extension": ".py",
   "mimetype": "text/x-python",
   "name": "python",
   "nbconvert_exporter": "python",
   "pygments_lexer": "ipython3",
   "version": "3.11.3"
  },
  "orig_nbformat": 4
 },
 "nbformat": 4,
 "nbformat_minor": 2
}
