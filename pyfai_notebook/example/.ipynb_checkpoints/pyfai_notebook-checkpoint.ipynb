{
 "cells": [
  {
   "cell_type": "markdown",
   "id": "a2497190-7a50-4d70-bef3-6480a7da9f26",
   "metadata": {},
   "source": [
    "# Calibration and azimuthal integration using pyFAI"
   ]
  },
  {
   "cell_type": "markdown",
   "id": "1d5ec2e1-0f7e-4baa-b8e7-c8b6f5c35a30",
   "metadata": {},
   "source": [
    "## Import section"
   ]
  },
  {
   "cell_type": "code",
   "execution_count": 1,
   "id": "6fa12c71-4d81-4aba-85e0-80cf3d9e9bff",
   "metadata": {
    "tags": []
   },
   "outputs": [],
   "source": [
    "from pathlib import Path\n",
    "import subprocess\n",
    "import numpy as np\n",
    "import matplotlib.pyplot as plt\n",
    "import tkinter as tk\n",
    "from tkinter import filedialog"
   ]
  },
  {
   "cell_type": "markdown",
   "id": "adf5624e-563d-4e4b-9294-a10aa28e31dd",
   "metadata": {
    "tags": []
   },
   "source": [
    "## Calibration"
   ]
  },
  {
   "cell_type": "markdown",
   "id": "acb5a24c-521e-457c-8921-04e3bdf481ba",
   "metadata": {},
   "source": [
    "Running the pyFAI calibration GUI."
   ]
  },
  {
   "cell_type": "code",
   "execution_count": 3,
   "id": "ed760829-161c-4e26-9087-09387a05c039",
   "metadata": {
    "tags": []
   },
   "outputs": [
    {
     "data": {
      "text/plain": [
       "CompletedProcess(args='pyFAI-calib2', returncode=0)"
      ]
     },
     "execution_count": 3,
     "metadata": {},
     "output_type": "execute_result"
    }
   ],
   "source": [
    "subprocess.run(\"pyFAI-calib2\")"
   ]
  },
  {
   "cell_type": "markdown",
   "id": "607bb525-3664-463e-b6a5-9dc5e4e3353a",
   "metadata": {},
   "source": [
    "## Integration"
   ]
  },
  {
   "cell_type": "markdown",
   "id": "ed86290d-f08d-4a0a-aeb6-9123e8027d65",
   "metadata": {},
   "source": [
    "Running the pyFAI integration GUI."
   ]
  },
  {
   "cell_type": "code",
   "execution_count": 4,
   "id": "c3363133-f463-4b62-b681-d3c10d5bb831",
   "metadata": {
    "tags": []
   },
   "outputs": [
    {
     "data": {
      "text/plain": [
       "CompletedProcess(args='pyFAI-integrate', returncode=0)"
      ]
     },
     "execution_count": 4,
     "metadata": {},
     "output_type": "execute_result"
    }
   ],
   "source": [
    "subprocess.run(\"pyFAI-integrate\")"
   ]
  },
  {
   "cell_type": "markdown",
   "id": "f883ad11-83de-46b7-90b2-ab095a86cb7e",
   "metadata": {
    "tags": []
   },
   "source": [
    "## Plotting integrated files"
   ]
  },
  {
   "cell_type": "markdown",
   "id": "c7a1850a-a36c-42f5-ab9f-f618b2dc02d2",
   "metadata": {
    "tags": []
   },
   "source": [
    "Choose integrated files to plot."
   ]
  },
  {
   "cell_type": "code",
   "execution_count": 8,
   "id": "88583eed-899e-4773-ac52-9caee87cfd54",
   "metadata": {
    "tags": []
   },
   "outputs": [],
   "source": [
    "root = tk.Tk()\n",
    "root.attributes(\"-topmost\", True)\n",
    "root.iconify()\n",
    "files = filedialog.askopenfilenames(parent=root, title=\"Choose files to plot.\")\n",
    "root.destroy()\n",
    "file_paths = [Path(f) for f in files]\n",
    "parent = file_paths[0].parent"
   ]
  },
  {
   "cell_type": "markdown",
   "id": "3112d380-6e93-40dd-bd36-da64a06af7ec",
   "metadata": {},
   "source": [
    "Replacing NaN with zeros."
   ]
  },
  {
   "cell_type": "code",
   "execution_count": 9,
   "id": "655c2efe-5811-4059-84b3-3fb803826bc6",
   "metadata": {},
   "outputs": [
    {
     "name": "stdout",
     "output_type": "stream",
     "text": [
      "C:\\Users\\au714043\\OneDrive - Aarhus Universitet\\Desktop\\plot_chi\\png_nan_to_zero\n"
     ]
    }
   ],
   "source": [
    "nan_path = parent.parent / f\"{parent.name}_nan_to_zero\"\n",
    "if not nan_path.exists():\n",
    "    nan_path.mkdir()\n",
    "nans = [\"NAN\", \"NaN\", \"Nan\", \"nan\"]\n",
    "for file in files:\n",
    "    with file.open(mode=\"r\") as f:\n",
    "        s = f.read()\n",
    "    for nan in nans:\n",
    "        s = s.replace(nan, \"0)\n",
    "    outputh_path = nan_path / file.name\n",
    "    with output_path.open(mode=\"w\") as o:\n",
    "        o.write(s)"
   ]
  },
  {
   "cell_type": "markdown",
   "id": "aa412095-f381-4f4f-aeaa-1ad8d7b40b18",
   "metadata": {},
   "source": [
    "Plot function."
   ]
  },
  {
   "cell_type": "code",
   "execution_count": null,
   "id": "7c2a358a-28c4-48df-90e6-b82a6f7f08f4",
   "metadata": {
    "tags": []
   },
   "outputs": [],
   "source": [
    "def plot(file, d, output_paths):\n",
    "    data = np.nan_to_num(np.load(file))\n",
    "    x, y = data[:, 0], data[:, 1]\n",
    "    plt.style.use(bg_mpl_style)\n",
    "    fig, ax = plt.subplots(dpi=d[\"dpi\"], figsize=d[\"figsize\"])\n",
    "    ax.plot(x, y)\n",
    "    xmin, xmax = np.amin(x), np.amax(x)\n",
    "    ymin, ymax = np.amin(y), np.amax(y)\n",
    "    yrange = ymax - ymin\n",
    "    ax.set_xlim(xmin, xmax)\n",
    "    ax.set_ylim(ymin - d[\"yoffset\"] * yrange, ymax + d[\"yoffset\"] * yrange)\n",
    "    ax.set_xlabel(xlabel_q, fontsize=d[\"fontsize_labels\"])\n",
    "    ax.set_ylabel(ylabel, fontsize=d[\"fontsize_labels\"])\n",
    "    ax.minorticks_on()\n",
    "    for p in plot_paths:\n",
    "        plt.savefig(p / f\"{file.stem}.{p.name}\", bbox_inches=\"tight\")\n",
    "    plt.close()\n",
    "             \n",
    "    return None             "
   ]
  },
  {
   "cell_type": "markdown",
   "id": "2d25078a-8a0b-4f8e-afb9-175d45afca56",
   "metadata": {},
   "source": [
    "Dictionary with plot settings."
   ]
  },
  {
   "cell_type": "code",
   "execution_count": null,
   "id": "5d936474-535e-48c1-b08d-0928c2a20f05",
   "metadata": {
    "tags": []
   },
   "outputs": [],
   "source": [
    "D_PLOT = dict(dpi = 600,\n",
    "              figsize = (12, 4),\n",
    "              fontsize_labels = 20,\n",
    "              fontsize_ticks = 14,\n",
    "              xlabel_tt = \"$2\\theta\\;[\\degree]$\",\n",
    "              xlabel_q = \"$Q\\;[\\mathrm{\\AA}^{-1}]$\",\n",
    "              ylabel = \"$I\\;[\\mathrm{arb.\\;u.}]$\",\n",
    "              yoffset = 0.01,\n",
    "             )"
   ]
  },
  {
   "cell_type": "markdown",
   "id": "8e1412c3-8925-43b0-8c8c-56a996427682",
   "metadata": {},
   "source": [
    "Creating plot folders if not already existing."
   ]
  },
  {
   "cell_type": "code",
   "execution_count": 9,
   "id": "ba9193b7-57a5-4180-8c58-e01a58485e89",
   "metadata": {
    "tags": []
   },
   "outputs": [
    {
     "data": {
      "text/plain": [
       "[WindowsPath('C:/Users/au714043/OneDrive - Aarhus Universitet/Desktop/plot_chi/png/SC3_00_CeO2_bkg-corrected.png'),\n",
       " WindowsPath('C:/Users/au714043/OneDrive - Aarhus Universitet/Desktop/plot_chi/png/SC3_01_kapton.png'),\n",
       " WindowsPath('C:/Users/au714043/OneDrive - Aarhus Universitet/Desktop/plot_chi/png/SC3_17_CeO2_bkg-corrected.png')]"
      ]
     },
     "execution_count": 9,
     "metadata": {},
     "output_type": "execute_result"
    }
   ],
   "source": [
    "png_path, pdf_path, svg_path = parent / \"png\", parent / \"pdf\", parent / \"svg\"\n",
    "plot_paths = [png_path, pdf_path, svg_path]\n",
    "for p in plot_paths:\n",
    "    if not p.exists():\n",
    "        p.mkdir()"
   ]
  },
  {
   "cell_type": "markdown",
   "id": "c02b771c-83f4-4d9c-b10b-0589b92c1cf2",
   "metadata": {},
   "source": [
    "Plotting files."
   ]
  },
  {
   "cell_type": "code",
   "execution_count": null,
   "id": "4ea556d1-478f-4949-a9cd-1ef4533f2e15",
   "metadata": {},
   "outputs": [],
   "source": [
    "for file in files:\n",
    "    plot(file, D_PLOT, plot_paths)"
   ]
  },
  {
   "cell_type": "code",
   "execution_count": 3,
   "id": "00b45f88-9cbf-48cf-aa26-1b1ae79b2ada",
   "metadata": {},
   "outputs": [],
   "source": []
  },
  {
   "cell_type": "code",
   "execution_count": 7,
   "id": "b46deef3-5a79-4f78-ac96-81bb246b3239",
   "metadata": {
    "tags": []
   },
   "outputs": [],
   "source": []
  },
  {
   "cell_type": "code",
   "execution_count": null,
   "id": "15d5dec1-5865-4962-80a3-34703dbe709c",
   "metadata": {},
   "outputs": [],
   "source": []
  }
 ],
 "metadata": {
  "kernelspec": {
   "display_name": "Python 3 (ipykernel)",
   "language": "python",
   "name": "python3"
  },
  "language_info": {
   "codemirror_mode": {
    "name": "ipython",
    "version": 3
   },
   "file_extension": ".py",
   "mimetype": "text/x-python",
   "name": "python",
   "nbconvert_exporter": "python",
   "pygments_lexer": "ipython3",
   "version": "3.9.16"
  },
  "vscode": {
   "interpreter": {
    "hash": "f5dcbab7fb80d3d04f4921d0481895d978c3710d3b72109894d60b6dbdd38410"
   }
  }
 },
 "nbformat": 4,
 "nbformat_minor": 5
}
