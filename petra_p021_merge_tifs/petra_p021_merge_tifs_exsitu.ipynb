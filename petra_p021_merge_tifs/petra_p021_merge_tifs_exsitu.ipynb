{
 "cells": [
  {
   "attachments": {},
   "cell_type": "markdown",
   "metadata": {},
   "source": [
    "June 2023\n",
    "\n",
    "\n",
    "Martin Aaskov Karlsen  \n",
    "maak@chem.au.dk  \n",
    "maak-sdu @ GitHub  \n",
    "Postdoc  \n",
    "Ravnsbæk Group  \n",
    "Aarhus University"
   ]
  },
  {
   "attachments": {},
   "cell_type": "markdown",
   "metadata": {},
   "source": [
    "# Merging .tif files from *exsitu* total scattering\n",
    "\n",
    "This code is written for merging subframes from *exsitu* total scattering \n",
    "experiments conducted on beamline P02.1, PETRA III, DESY.\n",
    "\n",
    "During the total scattering experiment, a single exposure is split into multiple \n",
    "subframes, which are to be merged by this code.\n",
    "\n",
    "## Naming scheme\n",
    "For the code to be able to sort the files properly, the following name scheme is\n",
    "expected:\n",
    "```\n",
    "NAME-RUNNINGNUMBER.tif\n",
    "```\n",
    "e.g.:\n",
    "```\n",
    "Ni_std-02926.tif\n",
    "```\n",
    "where:\n",
    "```\n",
    "NAME: Ni_std    \n",
    "RUNNINGNUMBER: 02925\n",
    "```\n",
    "NB: Please don't use a hyphen/dash ('-') in the filename except for separating\n",
    "the sample name from the running number.\n",
    "\n",
    "## Running the code\n",
    "The code should be run from a directory containing the `.tif` files that are to\n",
    "be merged.\n",
    "\n",
    "Only three modules are used in the code. The ``pathlib`` module is a part of the\n",
    "standard library and comes with your Python installation. In addition, the \n",
    "``numpy`` and ``scikit-image`` modules are used. For the code to function, these \n",
    "modules need to be installed, if not already installed.\n",
    "\n",
    "If you are using a conda distribution and you need a new environment using, \n",
    "e.g., Python 3.11, you can create such one (installing from the conda-forge \n",
    "conda channel):\n",
    "```\n",
    "conda create -n py311 -c conda-forge python=3.11 numpy scikit-image jupyterlab\n",
    "```\n",
    "The ``jupyterlab`` package is installed to be able to use iPython \n",
    "functionalities, including Jupyter Lab and/or Jupyter Notebook.\n",
    "\n",
    "The newly created conda environment can then be activated:\n",
    "```\n",
    "conda activate py311\n",
    "```\n",
    "Then, the code can be run through Jupyter (Lab or Notebook)\n",
    "```\n",
    "jupyter-lab\n",
    "```\n",
    "or\n",
    "```\n",
    "jupyter-notebook\n",
    "```\n",
    "Alternatively, the code can be run directly from the command line:\n",
    "from the command line:\n",
    "```\n",
    "ipython petra_p021_merge_tifs_exsitu.ipynb\n",
    "```\n",
    "or \n",
    "```\n",
    "ipython petra_p021_merge_tifs_operando.ipynb\n",
    "```\n",
    "Good luck and happy merging!\n"
   ]
  },
  {
   "attachments": {},
   "cell_type": "markdown",
   "metadata": {},
   "source": [
    "Imports."
   ]
  },
  {
   "cell_type": "code",
   "execution_count": null,
   "metadata": {},
   "outputs": [],
   "source": [
    "from pathlib import Path\n",
    "import numpy as np\n",
    "import skimage"
   ]
  },
  {
   "attachments": {},
   "cell_type": "markdown",
   "metadata": {},
   "source": [
    "Loading `.tif` files from current working directory, where `.tif` files\n",
    "containing \"dark\" in the file name are excluded, as these are not to merged."
   ]
  },
  {
   "cell_type": "code",
   "execution_count": null,
   "metadata": {},
   "outputs": [],
   "source": [
    "tif_files_all = list(Path.cwd().glob(\"*.tif\"))\n",
    "tif_files = [tif for tif in tif_files_all if not \"dark\" in tif.name]"
   ]
  },
  {
   "attachments": {},
   "cell_type": "markdown",
   "metadata": {},
   "source": [
    "Sorting ``.tif`` files to be merged by name and running number in a dictionary."
   ]
  },
  {
   "cell_type": "code",
   "execution_count": null,
   "metadata": {},
   "outputs": [],
   "source": [
    "d = {}\n",
    "for tif in tif_files:\n",
    "    filename_split = tif.stem.split(\"-\")\n",
    "    name = \"_\".join(filename_split[0:-1])\n",
    "    number = filename_split[-1]\n",
    "    if not name in d.keys():\n",
    "        d[name] = {number: tif}\n",
    "    else:\n",
    "        d[name][number] = tif"
   ]
  },
  {
   "attachments": {},
   "cell_type": "markdown",
   "metadata": {},
   "source": [
    "Creating the following output paths in the current working direcotory for merged \n",
    "files if not already existing:\n",
    "- tif_sum\n",
    "- tif_avg\n",
    "- npy_sum\n",
    "- npy_avg"
   ]
  },
  {
   "cell_type": "code",
   "execution_count": null,
   "metadata": {},
   "outputs": [],
   "source": [
    "tif_sum_path = Path.cwd() / \"tif_sum\"\n",
    "tif_avg_path = Path.cwd() / \"tif_avg\"\n",
    "npy_sum_path = Path.cwd() / \"npy_sum\"\n",
    "npy_avg_path = Path.cwd() / \"npy_avg\"\n",
    "d_output_paths = dict(tif_sum=tif_sum_path, \n",
    "                      tif_avg=tif_avg_path, \n",
    "                      npy_sum=npy_sum_path, \n",
    "                      npy_avg=npy_avg_path,\n",
    "                      )\n",
    "for p in d_output_paths.values():\n",
    "    if not p.exists():\n",
    "        p.mkdir()"
   ]
  },
  {
   "attachments": {},
   "cell_type": "markdown",
   "metadata": {},
   "source": [
    "Function to merge ``.tif`` files both by summation and averaging. The merged \n",
    "files with be written in both ``.tif`` and ``.npy`` format to the output folders\n",
    "created above."
   ]
  },
  {
   "cell_type": "code",
   "execution_count": null,
   "metadata": {},
   "outputs": [],
   "source": [
    "def merge(name, d, d_paths):\n",
    "    subframes = list(d.keys())\n",
    "    for i, subframe in enumerate(subframes):\n",
    "        print(f\"\\t{subframe}\")\n",
    "        file_path = d[subframe]\n",
    "        if i == 0:\n",
    "            array = np.array(skimage.io.imread(file_path))\n",
    "        else:\n",
    "            array = np.dstack((array, \n",
    "                               np.array(skimage.io.imread(file_path)),\n",
    "                               ))\n",
    "    array_sum, array_avg = np.sum(array, axis=-1), np.mean(array, axis=-1)\n",
    "    subframes_str = '-'.join(str(subframe) for subframe in subframes)\n",
    "    outname = f\"{name}_{subframes[0]}-{subframes[-1]}\"\n",
    "    np.save(d_paths[\"npy_sum\"] / f\"{outname}_sum\", array_sum)\n",
    "    np.save(d_paths[\"npy_avg\"] / f\"{outname}_avg\", array_avg)\n",
    "    skimage.io.imsave(d_paths[\"tif_sum\"] / f\"{outname}_sum.tif\",\n",
    "                      array_sum,\n",
    "                      )\n",
    "    skimage.io.imsave(d_paths[\"tif_avg\"] / f\"{outname}_avg.tif\",\n",
    "                      array_avg,\n",
    "                      )\n",
    "\n",
    "    return None"
   ]
  },
  {
   "attachments": {},
   "cell_type": "markdown",
   "metadata": {},
   "source": [
    "Merging `.tif` files both by summation and averaging and saving them to the\n",
    "output folder from above."
   ]
  },
  {
   "cell_type": "code",
   "execution_count": null,
   "metadata": {},
   "outputs": [],
   "source": [
    "for name in d.keys():\n",
    "    print(f\"{80*'-'}\\nMerging .tif files for: {name}\")\n",
    "    merge(name, d[name], d_output_paths)\n",
    "output_folders = [k for k in d_output_paths.keys()]\n",
    "print(f\"{80*'-'}\\nDone merging files. Please the {output_folders} folders.\")"
   ]
  }
 ],
 "metadata": {
  "kernelspec": {
   "display_name": "py311",
   "language": "python",
   "name": "python3"
  },
  "language_info": {
   "codemirror_mode": {
    "name": "ipython",
    "version": 3
   },
   "file_extension": ".py",
   "mimetype": "text/x-python",
   "name": "python",
   "nbconvert_exporter": "python",
   "pygments_lexer": "ipython3",
   "version": "3.11.4"
  },
  "orig_nbformat": 4
 },
 "nbformat": 4,
 "nbformat_minor": 2
}
