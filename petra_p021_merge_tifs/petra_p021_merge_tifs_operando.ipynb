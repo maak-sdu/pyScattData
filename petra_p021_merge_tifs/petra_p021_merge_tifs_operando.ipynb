{
 "cells": [
  {
   "attachments": {},
   "cell_type": "markdown",
   "metadata": {},
   "source": [
    "June 2023\n",
    "\n",
    "\n",
    "Martin Aaskov Karlsen  \n",
    "maak@chem.au.dk  \n",
    "maak-sdu @ GitHub  \n",
    "Postdoc  \n",
    "Ravnsbæk Group  \n",
    "Aarhus University"
   ]
  },
  {
   "attachments": {},
   "cell_type": "markdown",
   "metadata": {},
   "source": [
    "# Merging .tif files from *operando* total scattering\n",
    "\n",
    "This code is written for merging subframes from *operando* total scattering \n",
    "experiments conducted on beamline P02.1, PETRA III, DESY, using the \n",
    "`ravnsbaek.py` macro.\n",
    "\n",
    "During the total scattering experiment, a single exposure exposure is split into \n",
    "multiple subframes, which are to be merged by this code.\n",
    "\n",
    "At earlier beamtimes, an exposure time of four minutes per cycle was used, \n",
    "meaning that four subframes were to be merged. However, as long as the naming \n",
    "scheme below is followed, the code should work for other exposure times, number \n",
    "of frames to merge, etc.\n",
    "\n",
    "## Naming scheme\n",
    "For the code to be able to sort the files properly, the following name scheme is\n",
    "expected:\n",
    "```\n",
    "POSITION_NAME_CYCLENUMBER-RUNNINGNUMBER.tif\n",
    "```\n",
    "e.g.:\n",
    "```\n",
    "N1_Na_AOD42_p11_0-00162.tif\n",
    "```\n",
    "where:\n",
    "```\n",
    "POSITION: N1  \n",
    "NAME: Na_AOD42_p11  \n",
    "CYCLEBUMBER: 0  \n",
    "RUNNINGNUMBER: 00162\n",
    "```\n",
    "NB: Please use an underscore ('_') to separate the position from the sample \n",
    "'name.  \n",
    "Please don't use a hyphen/dash ('-') in the filename except for separating\n",
    "the cycle number and the running number.\n",
    "\n",
    "## Running the code\n",
    "The code should be run from a directory containing the `.tif` files that are to\n",
    "be merged.\n",
    "\n",
    "Only three modules are used in the code. The ``pathlib`` module is a part of the\n",
    "standard library and comes with your Python installation. In addition, the \n",
    "``numpy`` and ``scikit-image`` modules are used. For the code to function, these \n",
    "modules need to be installed if not already.\n",
    "\n",
    "If you are using a conda distribution and you need a new environment using e.g.\n",
    "Python 3.11, you can create such one:\n",
    "```\n",
    "conda create -n py311 -c conda-forge python=3.11 numpy scikit-image jupyterlab\n",
    "```\n",
    "The newly created conda environment can then be activated:\n",
    "```\n",
    "conda activate py311\n",
    "```\n",
    "Then, the code can be run through Jupyter (lab or notebook)\n",
    "```\n",
    "jupyter-lab\n",
    "```\n",
    "or\n",
    "```\n",
    "jupyter-notebook\n",
    "```\n",
    "Alternatively, the code can be run directly from the command line:\n",
    "from the command line:\n",
    "```\n",
    "ipython petra_p021_merge_tifs_operando.ipynb\n",
    "```\n",
    "Good luck and happy merging!\n"
   ]
  },
  {
   "attachments": {},
   "cell_type": "markdown",
   "metadata": {},
   "source": [
    "Imports."
   ]
  },
  {
   "cell_type": "code",
   "execution_count": null,
   "metadata": {},
   "outputs": [],
   "source": [
    "from pathlib import Path\n",
    "import numpy as np\n",
    "import skimage"
   ]
  },
  {
   "attachments": {},
   "cell_type": "markdown",
   "metadata": {},
   "source": [
    "Loading `.tif` files from current working directory, where `.tif` files\n",
    "containing \"dark\" in the file name are excluded, as these are not to merged."
   ]
  },
  {
   "cell_type": "code",
   "execution_count": null,
   "metadata": {},
   "outputs": [],
   "source": [
    "tif_files_all = list(Path.cwd().glob(\"*.tif\"))\n",
    "tif_files = [tif for tif in tif_files_all if not \"dark\" in tif.name]"
   ]
  },
  {
   "attachments": {},
   "cell_type": "markdown",
   "metadata": {},
   "source": [
    "Sorting ``.tif`` files to be merged by sample position, cycle number, and \n",
    "running number in a dictionary."
   ]
  },
  {
   "cell_type": "code",
   "execution_count": null,
   "metadata": {},
   "outputs": [],
   "source": [
    "d = {}\n",
    "for tif in tif_files:\n",
    "    filename_split = tif.stem.split(\"_\")\n",
    "    position_name = \"_\".join(filename_split[0:-1])\n",
    "    numbers = filename_split[-1].split(\"-\")\n",
    "    cycle, number = int(numbers[0]), int(numbers[1])\n",
    "    if not position_name in d.keys():\n",
    "        d[position_name] = {}\n",
    "    if not cycle in d[position_name].keys():\n",
    "        d[position_name][cycle] = {number: tif}\n",
    "    else:\n",
    "        d[position_name][cycle][number] = tif\n",
    "for k in d.keys():\n",
    "    d[k] = dict(sorted(d[k].items()))"
   ]
  },
  {
   "attachments": {},
   "cell_type": "markdown",
   "metadata": {},
   "source": [
    "Creating the following output paths in the current working direcotory for merged \n",
    "files if not already existing:\n",
    "- tif_sum\n",
    "- tif_avg\n",
    "- npy_sum\n",
    "- npy_avg"
   ]
  },
  {
   "cell_type": "code",
   "execution_count": null,
   "metadata": {},
   "outputs": [],
   "source": [
    "tif_sum_path = Path.cwd() / \"tif_sum\"\n",
    "tif_avg_path = Path.cwd() / \"tif_avg\"\n",
    "npy_sum_path = Path.cwd() / \"npy_sum\"\n",
    "npy_avg_path = Path.cwd() / \"npy_avg\"\n",
    "d_output_paths = dict(tif_sum=tif_sum_path, \n",
    "                      tif_avg=tif_avg_path, \n",
    "                      npy_sum=npy_sum_path, \n",
    "                      npy_avg=npy_avg_path,\n",
    "                      )\n",
    "for p in d_output_paths.values():\n",
    "    if not p.exists():\n",
    "        p.mkdir()\n",
    "for position_name in d.keys():\n",
    "    for p in d_output_paths.values():\n",
    "        if not (p / position_name).exists():\n",
    "            (p / position_name).mkdir()"
   ]
  },
  {
   "attachments": {},
   "cell_type": "markdown",
   "metadata": {},
   "source": [
    "Function to merge ``.tif`` files both by summation and averaging. The merged \n",
    "files with be written in both ``.tif`` and ``.npy`` format to the output folders\n",
    "created above."
   ]
  },
  {
   "cell_type": "code",
   "execution_count": 26,
   "metadata": {},
   "outputs": [],
   "source": [
    "def merge(position_name, cycle, d, d_paths):\n",
    "    subframes = d.keys()\n",
    "    for i, subframe in enumerate(subframes):\n",
    "        print(f\"\\t\\t{subframe}\")\n",
    "        file_path = d[subframe]\n",
    "        if i == 0:\n",
    "            array = np.array(skimage.io.imread(file_path))\n",
    "        else:\n",
    "            array = np.dstack((array, \n",
    "                               np.array(skimage.io.imread(file_path)),\n",
    "                               ))\n",
    "    array_sum, array_avg = np.sum(array, axis=-1), np.mean(array, axis=-1)\n",
    "    subframes_str = '-'.join(str(subframe) for subframe in subframes)\n",
    "    outname = f\"{position_name}_{cycle}_{subframes_str}\"\n",
    "    np.save(d_paths[\"npy_sum\"] / position_name / f\"{outname}_sum\", array_sum)\n",
    "    np.save(d_paths[\"npy_avg\"] / position_name / f\"{outname}_avg\", array_avg)\n",
    "    skimage.io.imsave(d_paths[\"tif_sum\"] / position_name / f\"{outname}_sum.tif\",\n",
    "                      array_sum,\n",
    "                      )\n",
    "    skimage.io.imsave(d_paths[\"tif_avg\"] / position_name / f\"{outname}_avg.tif\",\n",
    "                      array_avg,\n",
    "                      )\n",
    "\n",
    "    return None"
   ]
  },
  {
   "attachments": {},
   "cell_type": "markdown",
   "metadata": {},
   "source": [
    "Merging `.tif` files both by summation and averaging and saving them to the\n",
    "output folder from above."
   ]
  },
  {
   "cell_type": "code",
   "execution_count": null,
   "metadata": {},
   "outputs": [],
   "source": [
    "for position_name in d.keys():\n",
    "    print(f\"{80*'-'}\\nMerging .tif files for: {position_name}\")\n",
    "    cycles = d[position_name].keys()\n",
    "    for cycle in cycles:\n",
    "        print(f\"\\tcycle: {cycle}\")    \n",
    "        merge(position_name, cycle, d[position_name][cycle], d_output_paths)\n",
    "output_folders = [k for k in d_output_paths.keys()]\n",
    "print(f\"{80*'-'}\\nDone merging files. Please the {output_folders} folders.\")"
   ]
  }
 ],
 "metadata": {
  "kernelspec": {
   "display_name": "py311",
   "language": "python",
   "name": "python3"
  },
  "language_info": {
   "codemirror_mode": {
    "name": "ipython",
    "version": 3
   },
   "file_extension": ".py",
   "mimetype": "text/x-python",
   "name": "python",
   "nbconvert_exporter": "python",
   "pygments_lexer": "ipython3",
   "version": "3.11.4"
  },
  "orig_nbformat": 4
 },
 "nbformat": 4,
 "nbformat_minor": 2
}
